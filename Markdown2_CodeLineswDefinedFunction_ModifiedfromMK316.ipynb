{
  "nbformat": 4,
  "nbformat_minor": 0,
  "metadata": {
    "colab": {
      "name": "Markdown2_CodeLineswDefinedFunction_ModifiedfromMK316.ipynb",
      "provenance": [],
      "toc_visible": true,
      "authorship_tag": "ABX9TyNVqUR4AakEwDJlxN8d1AmG",
      "include_colab_link": true
    },
    "kernelspec": {
      "name": "python3",
      "display_name": "Python 3"
    },
    "language_info": {
      "name": "python"
    }
  },
  "cells": [
    {
      "cell_type": "markdown",
      "metadata": {
        "id": "view-in-github",
        "colab_type": "text"
      },
      "source": [
        "<a href=\"https://colab.research.google.com/github/ms624atyale/Scratch/blob/main/Markdown2_CodeLineswDefinedFunction_ModifiedfromMK316.ipynb\" target=\"_parent\"><img src=\"https://colab.research.google.com/assets/colab-badge.svg\" alt=\"Open In Colab\"/></a>"
      ]
    },
    {
      "cell_type": "markdown",
      "source": [
        "# TEMP. 🐹 🐾 Markdown for code blocks on **text cells**\n",
        "\n",
        "### Create your own functions and include them in your code lines.\n",
        "\n",
        "#### **Markdown_Step 1**: Copy and paste the code lines in the following on your code cell and run them.\n",
        "  If you want to make the **preview** of the definition of a fuction available in the text cell, create **code blocks** in the form of a shaded island by i) inserting a blank line, and ii) pressing the Spacebar key five times. You may also indicate part of a defined function by means of additionl use of the Tab key after the interval.     \n",
        "   \n",
        "     def add(x,y):\n",
        "      result = int(x) + int(y)\n",
        "      return result"
      ],
      "metadata": {
        "id": "MtYKaTH84vkB"
      }
    },
    {
      "cell_type": "code",
      "source": [
        "#@markdown **Practice Markdown_Set 1** \n",
        "#@markdown This is a code cell created in advance for your practice. **Paste** the code lines in the previous text cell.\n",
        "\n",
        "def add(x,y):\n",
        "  result = int(x) + int(y)\n",
        "  return result"
      ],
      "metadata": {
        "id": "66mEXRYwzlHL",
        "cellView": "form"
      },
      "execution_count": 17,
      "outputs": []
    },
    {
      "cell_type": "markdown",
      "source": [
        "#### **Markdown_Step 2**: Run the following code lines which includes the defined function above.\n",
        "\n",
        "#### The code lines in the following needs a set of two numbers as input to the defined **add** function.\n",
        "\n",
        "     numbers = input()\n",
        "     num = numbers.split(',')\n",
        "     print(\"The result is: \", add(num[0],num[1]))"
      ],
      "metadata": {
        "id": "yk1-H_9m1fIl"
      }
    },
    {
      "cell_type": "code",
      "source": [
        "#@markdown **Practice Markdown_Set 2** This is a code cell created in advance for your practice. Expose the code lines first.\n",
        "\n",
        "#@markdown 📌  Run the code lines provided in the code cell and a flashing Input Box will appear. Type in a set of two numbers with a comma in between and hit the Enter key.\n",
        "\n",
        "numbers = input() #This will generate a pop-up box.\n",
        "num = numbers.split(',') #Arbitrary numbers are splited using this function.\n",
        "print(\"The result is: \", add(num[0],num[1])) #Use indexing to refer to individual items. "
      ],
      "metadata": {
        "cellView": "form",
        "id": "Yt_miQhT3bGk"
      },
      "execution_count": null,
      "outputs": []
    }
  ]
}