{
  "nbformat": 4,
  "nbformat_minor": 0,
  "metadata": {
    "colab": {
      "name": "Markdown2_CodeLineswDefinedFunction_ModifiedfromMK316.ipynb",
      "provenance": [],
      "toc_visible": true,
      "authorship_tag": "ABX9TyOIZCURs8P70aNI91Z4BRS3",
      "include_colab_link": true
    },
    "kernelspec": {
      "name": "python3",
      "display_name": "Python 3"
    },
    "language_info": {
      "name": "python"
    }
  },
  "cells": [
    {
      "cell_type": "markdown",
      "metadata": {
        "id": "view-in-github",
        "colab_type": "text"
      },
      "source": [
        "<a href=\"https://colab.research.google.com/github/ms624atyale/Scratch/blob/main/Markdown2_CodeLineswDefinedFunction_ModifiedfromMK316.ipynb\" target=\"_parent\"><img src=\"https://colab.research.google.com/assets/colab-badge.svg\" alt=\"Open In Colab\"/></a>"
      ]
    },
    {
      "cell_type": "markdown",
      "source": [
        "## 1️⃣ Basic: How to use the markdown function.\n",
        "Hidden (Default) vs. Exposed\n",
        "- How to use:\n",
        "  - Double-click on the panel on the right to **hide** code lines.\n",
        "  - Either click on the {Show code} to **expose** code lines or Double-click on the panel on the right.\n"
      ],
      "metadata": {
        "id": "STFz8Wpba5b2"
      }
    },
    {
      "cell_type": "code",
      "execution_count": null,
      "metadata": {
        "id": "wrv9_5R8WloU",
        "outputId": "c1e60f6c-8729-493a-ae58-6a107673e37e",
        "colab": {
          "base_uri": "https://localhost:8080/"
        }
      },
      "outputs": [
        {
          "output_type": "stream",
          "name": "stdout",
          "text": [
            "1. Codes lines of a cell on the Colab are hidden denoted by \"@#markdown\" in the 1st line.\n",
            "2. When a set of code lines in a cell are hidden, click on the 'Show code' button if you want to expose the code lines.\n",
            "3. If you want to hide a set of codes back again, double-click on the right panel.\n"
          ]
        }
      ],
      "source": [
        "#@markdown 💙 Sample exercie for **Hide** vs. **Exposure**\n",
        "print('1. Codes lines of a cell on the Colab are hidden denoted by \"@#markdown\" in the 1st line.')\n",
        "print(\"2. When a set of code lines in a cell are hidden, click on the 'Show code' button if you want to expose the code lines.\")\n",
        "print(\"3. If you want to hide a set of codes back again, double-click on the right panel.\")"
      ]
    },
    {
      "cell_type": "markdown",
      "source": [
        "## 2️⃣  Markdown for code blocks on **text cells**\n",
        "\n",
        "### Create your own functions and include them in your code lines.\n",
        "\n",
        "#### **Markdown_Step 1**: Copy and paste the code lines in the following on your code cell and run them.\n",
        "  If you want to make the **preview** of the definition of a fuction available in the text cell, create **code blocks** in the form of a shaded island by i) inserting a blank line, and ii) pressing the Spacebar key five times. You may also indicate part of a defined function by means of additionl use of the Tab key after the interval.     \n",
        "   \n",
        "     def add(x,y):\n",
        "      result = int(x) + int(y)\n",
        "      return result"
      ],
      "metadata": {
        "id": "MtYKaTH84vkB"
      }
    },
    {
      "cell_type": "code",
      "source": [
        "#@markdown **Practice Markdown_Set 1** \n",
        "#@markdown This is a code cell created in advance for your practice. **Paste** the code lines in the previous text cell.\n",
        "\n"
      ],
      "metadata": {
        "id": "66mEXRYwzlHL"
      },
      "execution_count": null,
      "outputs": []
    },
    {
      "cell_type": "markdown",
      "source": [
        "#### **Markdown_Step 2**: Run the following code lines which includes the defined function above.\n",
        "\n",
        "#### The code lines in the following needs a set of two numbers as input to the defined **add** function.\n",
        "\n",
        "     numbers = input()\n",
        "     num = numbers.split(',')\n",
        "     print(\"The result is: \", add(num[0],num[1]))"
      ],
      "metadata": {
        "id": "yk1-H_9m1fIl"
      }
    },
    {
      "cell_type": "code",
      "source": [
        "#@markdown **Practice Markdown_Set 2** This is a code cell created in advance for your practice. Expose the code lines first.\n",
        "\n",
        "#@markdown 📌  Run the code lines provided in the code cell and a flashing Input Box will appear. Type in a set of two numbers with a comma in between there and hit the Enter key.\n",
        "\n",
        "numbers = input()\n",
        "num = numbers.split(',')\n",
        "print(\"The result is: \", add(num[0],num[1]))"
      ],
      "metadata": {
        "cellView": "form",
        "id": "Yt_miQhT3bGk"
      },
      "execution_count": null,
      "outputs": []
    },
    {
      "cell_type": "markdown",
      "source": [
        "## 3️⃣  Markdown for code blocks on **code cells**\n",
        "\n",
        "### Create your own functions and include them in your code lines.\n",
        "\n",
        "#### **Markdown_Step 1**: Copy and paste the code lines on your code cell and run them.\n",
        "  If you want to make the **preview**  **Practice** TTS (text-to-speech) with multiple accents available. \n",
        "- How to use: \n",
        ">1. Install the gTTS package (**code line**: !pip install gTTS) \n",
        ">2. Import subordinate units (modues and functions)\n",
        ">3. Select an accent of your choice among English (en), French (fr), Korean (ko), and Spanish (es).\n",
        ">4. Generate and save a wave file.\n",
        ">5. Play the wave file. "
      ],
      "metadata": {
        "id": "C6h1uqBC9UEQ"
      }
    },
    {
      "cell_type": "code",
      "source": [
        "#@markdown **TTS_Step 1**: Install the **gTTS** packages and import its relevant modules and functions\n",
        "!pip install gTTS\n",
        "from gtts import gTTS\n",
        "from IPython.display import Audio"
      ],
      "metadata": {
        "cellView": "form",
        "id": "0phxy06O9zrT"
      },
      "execution_count": null,
      "outputs": []
    },
    {
      "cell_type": "code",
      "source": [
        "#@markdown **TTS_Step 2**: Define a function that enables a user to i) select an accent, ii) generate a wave file, and iii) spit out a corresponding play window.\n",
        "def tts(text):\n",
        "  text_to_speech = text\n",
        "  language=\"en\" #@param[\"en\",\"fr\",\"ko\",\"es\"]\n",
        " \n",
        "\n",
        "  gtts_object = gTTS(text = text_to_speech,\n",
        "                     lang = language,\n",
        "                     slow = False)\n",
        "  gtts_object.save(\"myaudio.wav\")\n",
        "  return Audio(\"myaudio.wav\")\n",
        "  "
      ],
      "metadata": {
        "cellView": "form",
        "id": "tuco71N4_cdv"
      },
      "execution_count": null,
      "outputs": []
    },
    {
      "cell_type": "code",
      "source": [
        "#@markdown **TTS_Step 3**: Type in (or copy & past) any texts of yoour interest in the input box. \n",
        "\n",
        "text_to_speech = input()\n",
        "txt = str(text_to_speech)\n",
        "print(\"Help: Three dots in the audio window provide various playback speed. The default is normal speech.\")\n",
        "tts(txt)"
      ],
      "metadata": {
        "colab": {
          "base_uri": "https://localhost:8080/",
          "height": 130
        },
        "cellView": "form",
        "id": "E_V4XqfPNf3r",
        "outputId": "a15b3bfe-6f98-4bf1-901b-80eabb56588a"
      },
      "execution_count": null,
      "outputs": [
        {
          "output_type": "stream",
          "name": "stdout",
          "text": [
            "yes\n",
            "Help: Three dots in the audio window provide various playback speed. The default is normal speech.\n"
          ]
        },
        {
          "output_type": "execute_result",
          "data": {
            "text/plain": [
              "<IPython.lib.display.Audio object>"
            ],
            "text/html": [
              "\n",
              "                <audio controls=\"controls\" >\n",
              "                    <source src=\"data:audio/x-wav;base64,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\" type=\"audio/x-wav\" />\n",
              "                    Your browser does not support the audio element.\n",
              "                </audio>\n",
              "              "
            ]
          },
          "metadata": {},
          "execution_count": 16
        }
      ]
    }
  ]
}