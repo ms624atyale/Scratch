{
  "nbformat": 4,
  "nbformat_minor": 0,
  "metadata": {
    "colab": {
      "name": "TextCells_Format_ModifiedfromMK316.ipynb",
      "provenance": [],
      "toc_visible": true,
      "authorship_tag": "ABX9TyOWaq/Ku1h6EmVqzIvJx8jL",
      "include_colab_link": true
    },
    "kernelspec": {
      "name": "python3",
      "display_name": "Python 3"
    },
    "language_info": {
      "name": "python"
    }
  },
  "cells": [
    {
      "cell_type": "markdown",
      "metadata": {
        "id": "view-in-github",
        "colab_type": "text"
      },
      "source": [
        "<a href=\"https://colab.research.google.com/github/ms624atyale/Scratch/blob/main/TextCells_Format_ModifiedfromMK316.ipynb\" target=\"_parent\"><img src=\"https://colab.research.google.com/assets/colab-badge.svg\" alt=\"Open In Colab\"/></a>"
      ]
    },
    {
      "cell_type": "markdown",
      "source": [
        "🐹 🐳 **Text cells** are visually useful so that you can appropriately use them for a title or instructions for code lines on code cells. Simple formatting is also available. It is worth spending your time for your future reference, presentations, or other people's sake. \n",
        "\n",
        "## **Format** guildlines on **text cells** \n",
        "\n",
        "You can use the menu bars on top of the text celss for formating your text (e.g., boldface, italics, indents, etc.). But, you should know how to do it from scratch. \n",
        "\n",
        "### 1️⃣  **Font size**  \n",
        ">1. # First header: Add one pound symbol **#** before a word or phrase.\n",
        ">2. ## Second header: Add two pound symbols **##** before your text.\n",
        ">3. ### Third header: Add three pound symbols **###** before your text.\n",
        ">4. #### Fourth header: Add four pound symbols **####** before your text.\n",
        "\n",
        "\n",
        "### 2️⃣ **Font style**\n",
        "\n",
        ">1. **Bold face**: Add two asterisks before and after a word or phrase. \n",
        ">2. _Italic_: Add an underscore before and after a word or phrase. \n",
        ">3. **_Bold italic_**: Add two asterisks followed by an underscore before a word or phrase, and a underscore followed by two asterisks after a word or phrase.   \n",
        "\n",
        "\n",
        "### 3️⃣ **Indents**  📖\n",
        "Add a greater than symbol **>** before your text. You should also give a numerical number for each indentation. \n",
        ">1. List A \n",
        ">2. List B\n",
        ">3. List C\n",
        "\n",
        "\n",
        "\n",
        "### 4️⃣ **Bullet points**\n",
        "- Add a hyphen for rank-one bullet followed by a space before a word. \n",
        "-- Add two hythens for rank-two bullet followed by a space before a word.\n",
        "-- Add two hythens for rank-two bullet followed by a space before a word.\n",
        "\n",
        "### 5️⃣ **An isolated box in grey**\n",
        "Click on the Space Bar for five times\n",
        "\n",
        "     Click on the Space Bar for five times\n",
        "      Click on the Tab to indent the next line\n",
        "      Hit the Enter key"
      ],
      "metadata": {
        "id": "MtYKaTH84vkB"
      }
    },
    {
      "cell_type": "markdown",
      "source": [
        "#📌 [Practice1] Font in rank 1"
      ],
      "metadata": {
        "id": "-XyXzdJe2vRD"
      }
    },
    {
      "cell_type": "code",
      "source": [
        "print(\"Hello World!\")"
      ],
      "metadata": {
        "id": "BkLb1eFG3OAR"
      },
      "execution_count": null,
      "outputs": []
    },
    {
      "cell_type": "markdown",
      "source": [
        "##📌 [Practice2] Font in rank 2"
      ],
      "metadata": {
        "id": "CYxZXr2m3aAd"
      }
    },
    {
      "cell_type": "code",
      "source": [
        "print(\"Hello World!\")"
      ],
      "metadata": {
        "id": "8xu8gzat3Q-8"
      },
      "execution_count": null,
      "outputs": []
    },
    {
      "cell_type": "markdown",
      "source": [
        "###📌 [Practice3] Font in rank 3"
      ],
      "metadata": {
        "id": "YlQxjCey3mlR"
      }
    },
    {
      "cell_type": "code",
      "source": [
        "print(\"Hello World!\")"
      ],
      "metadata": {
        "id": "7N0aIlVq3ehf"
      },
      "execution_count": null,
      "outputs": []
    },
    {
      "cell_type": "markdown",
      "source": [
        "####📌 [Practice4] Font in rank 4"
      ],
      "metadata": {
        "id": "vuo2MFNu3os0"
      }
    },
    {
      "cell_type": "code",
      "source": [
        "print(\"Hello World!\")"
      ],
      "metadata": {
        "id": "_M5XUk663ine"
      },
      "execution_count": null,
      "outputs": []
    },
    {
      "cell_type": "markdown",
      "source": [
        "📌 **[Practice5] Boldface**\n",
        "\n"
      ],
      "metadata": {
        "id": "S8b-T9MQ4Lee"
      }
    },
    {
      "cell_type": "code",
      "source": [
        "print(\"Hellow World!\")"
      ],
      "metadata": {
        "id": "7hjWEQB24L_x"
      },
      "execution_count": null,
      "outputs": []
    },
    {
      "cell_type": "markdown",
      "source": [
        "📌 _[Practice6] Italic_"
      ],
      "metadata": {
        "id": "OmKo5z9l4elO"
      }
    },
    {
      "cell_type": "code",
      "source": [
        "Print (\"Hello World!\")"
      ],
      "metadata": {
        "id": "4on4uGSY4kGF"
      },
      "execution_count": null,
      "outputs": []
    },
    {
      "cell_type": "markdown",
      "source": [
        "📌 **_[Practice7] Bold Italic_**"
      ],
      "metadata": {
        "id": "MA-64q5u4l40"
      }
    },
    {
      "cell_type": "code",
      "source": [
        "Print (\"Hello World!\")"
      ],
      "metadata": {
        "id": "AILOl91Y43_I"
      },
      "execution_count": null,
      "outputs": []
    },
    {
      "cell_type": "markdown",
      "source": [
        "📌 [Practice8] Indents\n",
        "\n",
        "How to improve your programming skill\n",
        ">1. Practice everyday.\n",
        ">2. Practice at least 10 minutes a day.\n",
        ">3. Practice seven days a week, 365 days a year.\n"
      ],
      "metadata": {
        "id": "2nFhjIyg44mP"
      }
    },
    {
      "cell_type": "code",
      "source": [
        "Print (\"Hello World!\")"
      ],
      "metadata": {
        "id": "GiTQz48B6cbN"
      },
      "execution_count": null,
      "outputs": []
    },
    {
      "cell_type": "markdown",
      "source": [
        "📌 [Practice9] Bullet points\n",
        "\n",
        "Fruits\n",
        "- Apple varieties\n",
        "-- Fuji\n",
        "-- Gala\n",
        "-- Pink Lady\n",
        "-- McIntosh\n",
        "-- Red Dilicious\n",
        "-- Honey Crisp\n",
        "\n",
        "- Pear varieties\n",
        "-- Green Anjou\n",
        "-- Red Anjou\n",
        "-- Bosc\n",
        "-- Comice\n",
        "-- Concorde\n"
      ],
      "metadata": {
        "id": "0fHZ3mBY6dzl"
      }
    },
    {
      "cell_type": "code",
      "source": [
        "Print (\"Hello World!\")"
      ],
      "metadata": {
        "id": "JlkjfvlB9ebl"
      },
      "execution_count": null,
      "outputs": []
    },
    {
      "cell_type": "markdown",
      "source": [
        "📌[Practice9] An isolated box in grey\n",
        "\n",
        "     define your function\n",
        "      add code lines\n",
        "      add more code lines"
      ],
      "metadata": {
        "id": "Gd5wz4gn9D6G"
      }
    },
    {
      "cell_type": "code",
      "source": [
        "Print (\"Hello World!\")"
      ],
      "metadata": {
        "id": "jVnzPkRN90Ns"
      },
      "execution_count": null,
      "outputs": []
    },
    {
      "cell_type": "markdown",
      "source": [
        "# 👻  You are done with this section! Good job! 🐹"
      ],
      "metadata": {
        "id": "RGNWLyvQ9_mZ"
      }
    }
  ]
}