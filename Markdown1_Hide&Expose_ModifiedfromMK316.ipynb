{
  "nbformat": 4,
  "nbformat_minor": 0,
  "metadata": {
    "colab": {
      "name": "Markdown1_Hide&Expose_ModifiedfromMK316.ipynb",
      "provenance": [],
      "toc_visible": true,
      "authorship_tag": "ABX9TyN17hbhmca9VOQW+ry0ay8A",
      "include_colab_link": true
    },
    "kernelspec": {
      "name": "python3",
      "display_name": "Python 3"
    },
    "language_info": {
      "name": "python"
    }
  },
  "cells": [
    {
      "cell_type": "markdown",
      "metadata": {
        "id": "view-in-github",
        "colab_type": "text"
      },
      "source": [
        "<a href=\"https://colab.research.google.com/github/ms624atyale/Scratch/blob/main/Markdown1_Hide%26Expose_ModifiedfromMK316.ipynb\" target=\"_parent\"><img src=\"https://colab.research.google.com/assets/colab-badge.svg\" alt=\"Open In Colab\"/></a>"
      ]
    },
    {
      "cell_type": "markdown",
      "source": [
        "# 🐹 🐾 Markdown Basics \n",
        "\n",
        "##1️⃣ Basic: How to use the function of **markdown**.\n",
        "\n",
        "### What is **markdown**?\n",
        ">1. Start with a sequence of two symbols, @#, and type in '**markdown**' (i.e., **@#markdown**).\n",
        ">2. Codes lines of a cell on the Colab can be hidden by the **markdown** function.\n",
        ">3. **<font color = 'red'>Hidden</font>** (Default) vs. **<font color = 'red'>Exposed</font>**\n",
        "- How to use:\n",
        "  - When a set of code lines in a cell are hidden, click on the 'Show code' button if you want to **expose** the code lines. You can also double-click on the panel on the right to do that.\n",
        "  - Double-click on the panel on the right to **hide** code lines.\n"
      ],
      "metadata": {
        "id": "STFz8Wpba5b2"
      }
    },
    {
      "cell_type": "code",
      "source": [
        "#@markdown 📌 Sample practice for **Hide** vs. **Exposure**\n",
        "\n",
        "print(\"Tom and Jerry!\")"
      ],
      "metadata": {
        "cellView": "form",
        "id": "DhvDMMv3cwyh"
      },
      "execution_count": null,
      "outputs": []
    },
    {
      "cell_type": "code",
      "execution_count": null,
      "metadata": {
        "id": "wrv9_5R8WloU",
        "cellView": "form"
      },
      "outputs": [],
      "source": [
        "#@markdown 📌📌 More sample practices for **Hide** vs. **Exposure**\n",
        "print(\"1. Codes lines of a cell on the Colab can be hidden by the markdown function.\")\n",
        "print(\"2. Start with a sequence of two symbols, @#, and type in 'markdown' (i.e., @#markdown).\")\n",
        "print(\"3. When a set of code lines in a cell are hidden, click on the 'Show code' button if you want to expose the code lines.\")\n",
        "print(\"4. If you want to hide a set of codes back again, double-click on the right panel.\")"
      ]
    }
  ]
}