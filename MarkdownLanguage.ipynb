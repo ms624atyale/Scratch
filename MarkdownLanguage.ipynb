{
  "nbformat": 4,
  "nbformat_minor": 0,
  "metadata": {
    "colab": {
      "name": "Untitled10.ipynb",
      "provenance": [],
      "authorship_tag": "ABX9TyNMTPEkoP42ctolVYG8z3kQ",
      "include_colab_link": true
    },
    "kernelspec": {
      "name": "python3",
      "display_name": "Python 3"
    },
    "language_info": {
      "name": "python"
    }
  },
  "cells": [
    {
      "cell_type": "markdown",
      "metadata": {
        "id": "view-in-github",
        "colab_type": "text"
      },
      "source": [
        "<a href=\"https://colab.research.google.com/github/ms624atyale/Scratch/blob/main/MarkdownLanguage.ipynb\" target=\"_parent\"><img src=\"https://colab.research.google.com/assets/colab-badge.svg\" alt=\"Open In Colab\"/></a>"
      ]
    },
    {
      "cell_type": "markdown",
      "source": [
        "## 🐹 🐾 👀  What is a markdown language?\n",
        "### Markup language > Markdown language\n",
        "- **Markup** refers to data included in an electronic document which is distinct from the document's content in that it is typically not included in representations of the document for end users\n",
        "- A **markup language** ([Markup Language from wikipedia](https://en.wikipedia.org/wiki/Markup_language)) is a set of rules governing what markup information may be included in a document and how it is combined with the content of the document in a way to facilitate use by humans and computer programs.\n",
        "- The idea and terminology evolved from the **\"marking up\"** of paper manuscripts (i.e., the revision instructions by editors 편집자 수정지침).\n",
        "- **Markdown** ([Markdown from wikipedia](https://en.wikipedia.org/wiki/Markdown)) is a lightweight markup language for creating formatted text using a plain-text editor (_John Gruber and Aaron Swartz created Markdown_, 2004). \n",
        "- Markdown codes can be applied to **README.md** as well as **Colab.ipynb**.\n",
        "- Proper use of the markdown language can facilitate user's readability.    \n"
      ],
      "metadata": {
        "id": "0Fnz8jj1QlAz"
      }
    }
  ]
}