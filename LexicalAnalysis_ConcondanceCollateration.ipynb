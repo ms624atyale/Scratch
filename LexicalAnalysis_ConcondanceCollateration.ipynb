{
  "nbformat": 4,
  "nbformat_minor": 0,
  "metadata": {
    "colab": {
      "name": "LexicalAnalysis_ConcondanceCollateration.ipynb",
      "provenance": [],
      "authorship_tag": "ABX9TyO3dp2XodYdCcNI1kzHnHdt",
      "include_colab_link": true
    },
    "kernelspec": {
      "name": "python3",
      "display_name": "Python 3"
    },
    "language_info": {
      "name": "python"
    }
  },
  "cells": [
    {
      "cell_type": "markdown",
      "metadata": {
        "id": "view-in-github",
        "colab_type": "text"
      },
      "source": [
        "<a href=\"https://colab.research.google.com/github/ms624atyale/Scratch/blob/main/LexicalAnalysis_ConcondanceCollateration.ipynb\" target=\"_parent\"><img src=\"https://colab.research.google.com/assets/colab-badge.svg\" alt=\"Open In Colab\"/></a>"
      ]
    },
    {
      "cell_type": "markdown",
      "source": [
        "# 🔧 🔨 👀 Under Construction\n",
        "#📚 👀 Essential Steps before Text Analysis\n",
        "\n",
        "## 🐹 🐾 [Text Corpus <font size='1.8'>코퍼스/말뭉치</font>](https://en.wikipedia.org/wiki/Text_corpus)  \n",
        "- In linguistics, a corpus (plural corpora) or text corpus is a language resource consisting of a large and structured set of texts (nowadays usually electronically stored and processed). In corpus linguistics, they are used to do statistical analysis and hypothesis testing, checking occurrences or validating linguistic rules within a specific language territory.\n",
        "\n",
        "- The **corpus-toolkit** package grew out of courses in corpus linguistics and learner corpus research. The toolkit attempts to balance simplicity of use, broad application, and scalability. Common corpus analyses such as the <font color = 'red'>_calculation of word and n-gram frequency and range, keyness, and collocation_</font> are included. In addition, more advanced analyses such as the identification of <font color = 'red'>_dependency bigrams (e.g., verb-direct object combinations) and their frequency, range, and strength of association_</font>  are also included.(https://pypi.org/project/corpus-toolkit/)\n",
        "\n",
        "Some conditions should be fulfilled if you want to conduct corpus-related analysis. \n",
        "\n",
        ">1. Read and write a file using an operating system package.\n",
        ">2. 🆘 import the **[os](https://docs.python.org/3/library/os.html)** module.\n",
        "\n",
        "\n",
        ">3. Text files you want to analyze (e.g., url(uniform resource locator) with html document, text files under the Files dicrectory of Google Colab).\n",
        ">4. Text ➡️ Words: **Tokenization**\n",
        ">5. Words with the conjugation, inflection, derivation process ↔️ Words sorted by grouping inflected or variant forms of the same word (i.e., **lemmatization**)\n",
        ">6. POS (part of speech (e.g., word-grammatical category pairs))\n",
        ">7. 🆘 Install **corpus-toolkit** and **nltk**(natural language tool kit) packages.\n",
        " \n"
      ],
      "metadata": {
        "id": "M7afPLwh-bRv"
      }
    },
    {
      "cell_type": "code",
      "source": [
        "#@markdown 📌 Download the os module \n",
        "import os"
      ],
      "metadata": {
        "id": "J-ZgsoO2LnYg"
      },
      "execution_count": 1,
      "outputs": []
    },
    {
      "cell_type": "code",
      "source": [
        "#@markdown 📌 Make a new working directory as \"txtdata\". 📎 <Module name: os> <function: mkdir>\n",
        "\n",
        "os.mkdir(\"txtfolder\")"
      ],
      "metadata": {
        "id": "Nt17SlKpUq_f"
      },
      "execution_count": 2,
      "outputs": []
    },
    {
      "cell_type": "code",
      "execution_count": null,
      "metadata": {
        "id": "JBz4z96Z-YV5"
      },
      "outputs": [],
      "source": [
        "#@markdown 📌 Download the corpus-toolkit package\n",
        "!pip install corpus-toolkit"
      ]
    },
    {
      "cell_type": "code",
      "source": [
        "!pip install lexical-diversity\n"
      ],
      "metadata": {
        "colab": {
          "base_uri": "https://localhost:8080/"
        },
        "id": "5bWvAY-gxSf9",
        "outputId": "4946185c-d7da-4627-be53-7c36d5123c1b"
      },
      "execution_count": 16,
      "outputs": [
        {
          "output_type": "stream",
          "name": "stdout",
          "text": [
            "Looking in indexes: https://pypi.org/simple, https://us-python.pkg.dev/colab-wheels/public/simple/\n",
            "Requirement already satisfied: lexical-diversity in /usr/local/lib/python3.7/dist-packages (0.1.1)\n"
          ]
        }
      ]
    },
    {
      "cell_type": "code",
      "source": [
        "import re"
      ],
      "metadata": {
        "id": "cHNMVuCExYrU"
      },
      "execution_count": 17,
      "outputs": []
    },
    {
      "cell_type": "code",
      "source": [
        "#@markdown 📌 Get working directory. <code line: print working directory>\n",
        "%pwd"
      ],
      "metadata": {
        "id": "6YiwfB3fVfQy",
        "colab": {
          "base_uri": "https://localhost:8080/",
          "height": 35
        },
        "outputId": "17c64d0f-681e-40b8-a199-8bd50a50cb3f"
      },
      "execution_count": 18,
      "outputs": [
        {
          "output_type": "execute_result",
          "data": {
            "text/plain": [
              "'/content'"
            ],
            "application/vnd.google.colaboratory.intrinsic+json": {
              "type": "string"
            }
          },
          "metadata": {},
          "execution_count": 18
        }
      ]
    },
    {
      "cell_type": "code",
      "source": [
        "#@markdown 📌 Open a txt file. <Use a set of duble quotation marks \"\" and assign the url address as the _url_ variable> \n",
        "url=\"https://raw.githubusercontent.com/ms624atyale/Data_Misc/main/TheAesop_theFoxwithoutaTail.txt\" \n",
        "\n",
        "\n",
        "os.system(\"curl \" + url + \" > foxtail.txt\") #This generates a txt file under the txtfolder directory and moves the whole text of the url to the txt file (e.g., foxtail.txt).  \n",
        "\n",
        "file = open(\"foxtail.txt\")\n",
        "text = file.read().replace(\"\\n\", \" \") #Replace line with a space.\n",
        "file.close() #Close the file you have been working on.\n",
        "\n",
        "#@markdown 📎 When you see crimepunish.txt under the Files directory, move it under the txtfolder folder you've created by drag & drop."
      ],
      "metadata": {
        "id": "cn5UjS8xWUpN"
      },
      "execution_count": 22,
      "outputs": []
    },
    {
      "cell_type": "code",
      "source": [
        "#@markdown 📌 i) Tokenize your text and ii) Get frequency.\n",
        "\n",
        "from corpus_toolkit import corpus_tools as ct\n",
        "txt = ct.ldcorpus(\"txtfolder\") #load and read the 'txtfolder' folder (cf., NOT \"foxtail.txt\")\n",
        "tok_corp = ct.tokenize(txt) #tokenize corpus - by default this lemmatizes as well\n",
        "txt_freq = ct.frequency(txt) #creates a frequency dictionary\n",
        "ct.head(txt_freq, hits = 20) #print top 20 items"
      ],
      "metadata": {
        "id": "u-Ph5SUx79UP",
        "colab": {
          "base_uri": "https://localhost:8080/"
        },
        "outputId": "b4cd117c-00af-4372-d1d2-68d7a68a3b73"
      },
      "execution_count": 7,
      "outputs": [
        {
          "output_type": "stream",
          "name": "stdout",
          "text": [
            "Processing crimepunish.txt (1 of 1 files)\n",
            "e\t105399\n",
            "t\t78524\n",
            "a\t71990\n",
            "o\t70251\n",
            "n\t62426\n",
            "i\t57650\n",
            "h\t54276\n",
            "s\t51909\n",
            "r\t46448\n",
            "d\t38461\n",
            "l\t35331\n",
            "u\t27760\n",
            "m\t22021\n",
            "w\t19665\n",
            "y\t19569\n",
            "c\t18334\n",
            "g\t17785\n",
            "f\t16458\n",
            ",\t16066\n",
            ".\t15296\n"
          ]
        }
      ]
    },
    {
      "cell_type": "code",
      "source": [
        "from corpus_toolkit import corpus_tools as ct\n",
        "\n",
        "txt = ct.ldcorpus(\"txtfolder\") #load and read the 'txtfolder' folder (cf., NOT \"foxtail.txt\")\n",
        "\n",
        "from lexical_diversity import lex_div as ld\n",
        "import re\n",
        "\n",
        "shortword = re.compile(r'\\W*\\b\\w{1,3}\\b') #Getting rid of Stopwords of 1~3 spellings. Regular expression\n",
        "txt = shortword.sub('',txt)\n",
        "\n",
        "tok_corp = ct.tokenize(txt) #tokenize corpus - by default this lemmatizes as well\n",
        "txt_freq = ct.frequency(txt) #creates a frequency dictionary\n",
        "ct.head(txt_freq, hits = 20) #print top 20 items"
      ],
      "metadata": {
        "colab": {
          "base_uri": "https://localhost:8080/",
          "height": 236
        },
        "id": "KP-EzJHeuxwM",
        "outputId": "8a278b40-e96d-49a7-a83a-f9c7c13ecf23"
      },
      "execution_count": 23,
      "outputs": [
        {
          "output_type": "error",
          "ename": "TypeError",
          "evalue": "ignored",
          "traceback": [
            "\u001b[0;31m---------------------------------------------------------------------------\u001b[0m",
            "\u001b[0;31mTypeError\u001b[0m                                 Traceback (most recent call last)",
            "\u001b[0;32m<ipython-input-23-05598aff42e9>\u001b[0m in \u001b[0;36m<module>\u001b[0;34m()\u001b[0m\n\u001b[1;32m      7\u001b[0m \u001b[0;34m\u001b[0m\u001b[0m\n\u001b[1;32m      8\u001b[0m \u001b[0mshortword\u001b[0m \u001b[0;34m=\u001b[0m \u001b[0mre\u001b[0m\u001b[0;34m.\u001b[0m\u001b[0mcompile\u001b[0m\u001b[0;34m(\u001b[0m\u001b[0;34mr'\\W*\\b\\w{1,3}\\b'\u001b[0m\u001b[0;34m)\u001b[0m \u001b[0;31m#Getting rid of Stopwords of 1~3 spellings. Regular expression\u001b[0m\u001b[0;34m\u001b[0m\u001b[0;34m\u001b[0m\u001b[0m\n\u001b[0;32m----> 9\u001b[0;31m \u001b[0mtxt\u001b[0m \u001b[0;34m=\u001b[0m \u001b[0mshortword\u001b[0m\u001b[0;34m.\u001b[0m\u001b[0msub\u001b[0m\u001b[0;34m(\u001b[0m\u001b[0;34m''\u001b[0m\u001b[0;34m,\u001b[0m\u001b[0mtxt\u001b[0m\u001b[0;34m)\u001b[0m\u001b[0;34m\u001b[0m\u001b[0;34m\u001b[0m\u001b[0m\n\u001b[0m\u001b[1;32m     10\u001b[0m \u001b[0;34m\u001b[0m\u001b[0m\n\u001b[1;32m     11\u001b[0m \u001b[0mtok_corp\u001b[0m \u001b[0;34m=\u001b[0m \u001b[0mct\u001b[0m\u001b[0;34m.\u001b[0m\u001b[0mtokenize\u001b[0m\u001b[0;34m(\u001b[0m\u001b[0mtxt\u001b[0m\u001b[0;34m)\u001b[0m \u001b[0;31m#tokenize corpus - by default this lemmatizes as well\u001b[0m\u001b[0;34m\u001b[0m\u001b[0;34m\u001b[0m\u001b[0m\n",
            "\u001b[0;31mTypeError\u001b[0m: expected string or bytes-like object"
          ]
        }
      ]
    },
    {
      "cell_type": "code",
      "source": [
        "#@markdown 📌 Tagging (i.e., associating each token with a grammatical category (e.g., mountain - N) )\n",
        "ct.write_corpus(\"tagged_txt\",ct.tag(ct.ldcorpus(\"txtfolder\")))"
      ],
      "metadata": {
        "id": "EZ7XatV0ZpMh",
        "colab": {
          "base_uri": "https://localhost:8080/"
        },
        "outputId": "6d576a1f-a9e4-4b69-fb0b-04142cd36d97"
      },
      "execution_count": null,
      "outputs": [
        {
          "output_type": "stream",
          "name": "stdout",
          "text": [
            "Writing files to existing folder\n",
            "Processing foxtail.txt (1 of 1 files)\n"
          ]
        }
      ]
    },
    {
      "cell_type": "code",
      "source": [
        "#@markdown 📌 Get frequency of your tagged tokens. 'hits=10' means you want to get the top 10 words. \n",
        "\n",
        "tagged_freq = ct.frequency(ct.reload(\"tagged_txt\"))\n",
        "ct.head(tagged_freq, hits = 10)"
      ],
      "metadata": {
        "id": "TxTrpzkEaXiI",
        "colab": {
          "base_uri": "https://localhost:8080/"
        },
        "outputId": "15e4e1d9-4164-4a7e-aa65-f367d45a5c93"
      },
      "execution_count": null,
      "outputs": [
        {
          "output_type": "stream",
          "name": "stdout",
          "text": [
            "Processing 1.txt (1 of 1 files)\n",
            "he_PRON\t16\n",
            "the_DET\t13\n",
            "of_ADP\t13\n",
            "a_DET\t12\n",
            "to_PART\t9\n",
            "and_CCONJ\t9\n",
            "Fox_PROPN\t8\n",
            "tail_NOUN\t8\n",
            "be_AUX\t7\n",
            "have_AUX\t6\n"
          ]
        }
      ]
    },
    {
      "cell_type": "markdown",
      "source": [
        "## 💡 Now, let's save tagged data as a dataframe and get word clouds!"
      ],
      "metadata": {
        "id": "1DoJZCxobIrG"
      }
    },
    {
      "cell_type": "code",
      "source": [
        "#@markdown 📌  Tagged data is in a dictionary format (e.g., {key:value}).\n",
        "type(tagged_freq)"
      ],
      "metadata": {
        "id": "YDjwNH2xbh6z",
        "colab": {
          "base_uri": "https://localhost:8080/"
        },
        "outputId": "c8d3fa4e-e167-4468-f079-4fbd0dd709af"
      },
      "execution_count": null,
      "outputs": [
        {
          "output_type": "execute_result",
          "data": {
            "text/plain": [
              "dict"
            ]
          },
          "metadata": {},
          "execution_count": 26
        }
      ]
    },
    {
      "cell_type": "code",
      "source": [
        "#@markdown 📌 Import the pandas package so as to handle dataframe.\n",
        "\n",
        "import pandas as pd"
      ],
      "metadata": {
        "id": "OvJt1jQBb6KD"
      },
      "execution_count": null,
      "outputs": []
    },
    {
      "cell_type": "code",
      "source": [
        "#@markdown 📌 Generate a dateframe with tagged words (e.g., word_POS) and their frequencies. \n",
        "\n",
        "data_dict = tagged_freq\n",
        "data_items = data_dict.items()\n",
        "data_list = list(data_items)\n",
        "df = pd.DataFrame(data_list)\n",
        "df.columns = [\"Tagged\",\"Freq\"]\n",
        "print(df)"
      ],
      "metadata": {
        "id": "bpGw92j8cRx6",
        "colab": {
          "base_uri": "https://localhost:8080/"
        },
        "outputId": "3440ffab-ec46-47d1-d5a2-1c566a9fc859"
      },
      "execution_count": null,
      "outputs": [
        {
          "output_type": "stream",
          "name": "stdout",
          "text": [
            "          Tagged  Freq\n",
            "0        the_DET    13\n",
            "1     Æsop_PROPN     1\n",
            "2        for_ADP     4\n",
            "3     child_NOUN     1\n",
            "4      Fox_PROPN     8\n",
            "..           ...   ...\n",
            "156  advice_NOUN     1\n",
            "157    seek_VERB     1\n",
            "158   lower_VERB     1\n",
            "159      own_ADJ     1\n",
            "160   level_NOUN     1\n",
            "\n",
            "[161 rows x 2 columns]\n"
          ]
        }
      ]
    },
    {
      "cell_type": "markdown",
      "source": [
        "## 💡 Splitting tagged columns into Words and POS <font size = '2.3'> part of speech (i.e., grammatical categories)\n",
        "  - e.g., \n",
        "              column          column 1.    column2\n",
        "          yesterday_ADP ➡️   yesterday       ADP\n",
        "          rain_NOUN             rain         NOUN\n",
        "          yellow_ADJ           yellow.       ADJ"
      ],
      "metadata": {
        "id": "riajmUc-cfJ6"
      }
    },
    {
      "cell_type": "code",
      "source": [
        "#@markdown 📌 Codelines to get tagged columns split into words and POS\n",
        "\n",
        "tagged = df[\"Tagged\"]\n",
        "pos = []\n",
        "word = []\n",
        "\n",
        "for i in range(0, len(tagged)):\n",
        "  w = tagged[i]\n",
        "  ws = w.split(\"_\")\n",
        "  word.append(ws[0])\n",
        "  pos.append(ws[1])\n",
        "\n",
        "print(len(tagged))\n",
        "print(word[:10])\n",
        "print(pos[:10])"
      ],
      "metadata": {
        "id": "_Is6HP1udiNu",
        "colab": {
          "base_uri": "https://localhost:8080/"
        },
        "outputId": "ef767b63-4d76-4b02-c762-4f36c8b107c5"
      },
      "execution_count": null,
      "outputs": [
        {
          "output_type": "stream",
          "name": "stdout",
          "text": [
            "161\n",
            "['the', 'Æsop', 'for', 'child', 'Fox', 'without', 'a', 'Tail', 'that', 'have']\n",
            "['DET', 'PROPN', 'ADP', 'NOUN', 'PROPN', 'ADP', 'DET', 'PROPN', 'PRON', 'AUX']\n"
          ]
        }
      ]
    },
    {
      "cell_type": "code",
      "source": [
        "#@markdown 📌 Add new columns to the dataframe.\n",
        "\n",
        "df[\"POS\"] = pos\n",
        "df[\"Word\"] = word\n",
        "\n",
        "# Rearranging column order (remove Tagged column)\n",
        "cols = [\"POS\",\"Word\",\"Freq\"]\n",
        "df = df[cols]\n",
        "\n",
        "# Sort by POS and Freq\n",
        "df = df.sort_values(by=['POS', 'Freq'], ascending = False)\n",
        "print(\"Total rows: \", len(df))\n",
        "df.head()"
      ],
      "metadata": {
        "id": "xVE9PFHvfBdm",
        "colab": {
          "base_uri": "https://localhost:8080/",
          "height": 224
        },
        "outputId": "dbcce4c8-9bac-4017-b330-5b9d36506a6a"
      },
      "execution_count": null,
      "outputs": [
        {
          "output_type": "stream",
          "name": "stdout",
          "text": [
            "Total rows:  161\n"
          ]
        },
        {
          "output_type": "execute_result",
          "data": {
            "text/plain": [
              "     POS   Word  Freq\n",
              "25  VERB   have     4\n",
              "69  VERB    say     4\n",
              "11  VERB  catch     2\n",
              "21  VERB    get     2\n",
              "40  VERB   know     2"
            ],
            "text/html": [
              "\n",
              "  <div id=\"df-5b4784e6-f8cc-4009-82f3-ecb84aa5326d\">\n",
              "    <div class=\"colab-df-container\">\n",
              "      <div>\n",
              "<style scoped>\n",
              "    .dataframe tbody tr th:only-of-type {\n",
              "        vertical-align: middle;\n",
              "    }\n",
              "\n",
              "    .dataframe tbody tr th {\n",
              "        vertical-align: top;\n",
              "    }\n",
              "\n",
              "    .dataframe thead th {\n",
              "        text-align: right;\n",
              "    }\n",
              "</style>\n",
              "<table border=\"1\" class=\"dataframe\">\n",
              "  <thead>\n",
              "    <tr style=\"text-align: right;\">\n",
              "      <th></th>\n",
              "      <th>POS</th>\n",
              "      <th>Word</th>\n",
              "      <th>Freq</th>\n",
              "    </tr>\n",
              "  </thead>\n",
              "  <tbody>\n",
              "    <tr>\n",
              "      <th>25</th>\n",
              "      <td>VERB</td>\n",
              "      <td>have</td>\n",
              "      <td>4</td>\n",
              "    </tr>\n",
              "    <tr>\n",
              "      <th>69</th>\n",
              "      <td>VERB</td>\n",
              "      <td>say</td>\n",
              "      <td>4</td>\n",
              "    </tr>\n",
              "    <tr>\n",
              "      <th>11</th>\n",
              "      <td>VERB</td>\n",
              "      <td>catch</td>\n",
              "      <td>2</td>\n",
              "    </tr>\n",
              "    <tr>\n",
              "      <th>21</th>\n",
              "      <td>VERB</td>\n",
              "      <td>get</td>\n",
              "      <td>2</td>\n",
              "    </tr>\n",
              "    <tr>\n",
              "      <th>40</th>\n",
              "      <td>VERB</td>\n",
              "      <td>know</td>\n",
              "      <td>2</td>\n",
              "    </tr>\n",
              "  </tbody>\n",
              "</table>\n",
              "</div>\n",
              "      <button class=\"colab-df-convert\" onclick=\"convertToInteractive('df-5b4784e6-f8cc-4009-82f3-ecb84aa5326d')\"\n",
              "              title=\"Convert this dataframe to an interactive table.\"\n",
              "              style=\"display:none;\">\n",
              "        \n",
              "  <svg xmlns=\"http://www.w3.org/2000/svg\" height=\"24px\"viewBox=\"0 0 24 24\"\n",
              "       width=\"24px\">\n",
              "    <path d=\"M0 0h24v24H0V0z\" fill=\"none\"/>\n",
              "    <path d=\"M18.56 5.44l.94 2.06.94-2.06 2.06-.94-2.06-.94-.94-2.06-.94 2.06-2.06.94zm-11 1L8.5 8.5l.94-2.06 2.06-.94-2.06-.94L8.5 2.5l-.94 2.06-2.06.94zm10 10l.94 2.06.94-2.06 2.06-.94-2.06-.94-.94-2.06-.94 2.06-2.06.94z\"/><path d=\"M17.41 7.96l-1.37-1.37c-.4-.4-.92-.59-1.43-.59-.52 0-1.04.2-1.43.59L10.3 9.45l-7.72 7.72c-.78.78-.78 2.05 0 2.83L4 21.41c.39.39.9.59 1.41.59.51 0 1.02-.2 1.41-.59l7.78-7.78 2.81-2.81c.8-.78.8-2.07 0-2.86zM5.41 20L4 18.59l7.72-7.72 1.47 1.35L5.41 20z\"/>\n",
              "  </svg>\n",
              "      </button>\n",
              "      \n",
              "  <style>\n",
              "    .colab-df-container {\n",
              "      display:flex;\n",
              "      flex-wrap:wrap;\n",
              "      gap: 12px;\n",
              "    }\n",
              "\n",
              "    .colab-df-convert {\n",
              "      background-color: #E8F0FE;\n",
              "      border: none;\n",
              "      border-radius: 50%;\n",
              "      cursor: pointer;\n",
              "      display: none;\n",
              "      fill: #1967D2;\n",
              "      height: 32px;\n",
              "      padding: 0 0 0 0;\n",
              "      width: 32px;\n",
              "    }\n",
              "\n",
              "    .colab-df-convert:hover {\n",
              "      background-color: #E2EBFA;\n",
              "      box-shadow: 0px 1px 2px rgba(60, 64, 67, 0.3), 0px 1px 3px 1px rgba(60, 64, 67, 0.15);\n",
              "      fill: #174EA6;\n",
              "    }\n",
              "\n",
              "    [theme=dark] .colab-df-convert {\n",
              "      background-color: #3B4455;\n",
              "      fill: #D2E3FC;\n",
              "    }\n",
              "\n",
              "    [theme=dark] .colab-df-convert:hover {\n",
              "      background-color: #434B5C;\n",
              "      box-shadow: 0px 1px 3px 1px rgba(0, 0, 0, 0.15);\n",
              "      filter: drop-shadow(0px 1px 2px rgba(0, 0, 0, 0.3));\n",
              "      fill: #FFFFFF;\n",
              "    }\n",
              "  </style>\n",
              "\n",
              "      <script>\n",
              "        const buttonEl =\n",
              "          document.querySelector('#df-5b4784e6-f8cc-4009-82f3-ecb84aa5326d button.colab-df-convert');\n",
              "        buttonEl.style.display =\n",
              "          google.colab.kernel.accessAllowed ? 'block' : 'none';\n",
              "\n",
              "        async function convertToInteractive(key) {\n",
              "          const element = document.querySelector('#df-5b4784e6-f8cc-4009-82f3-ecb84aa5326d');\n",
              "          const dataTable =\n",
              "            await google.colab.kernel.invokeFunction('convertToInteractive',\n",
              "                                                     [key], {});\n",
              "          if (!dataTable) return;\n",
              "\n",
              "          const docLinkHtml = 'Like what you see? Visit the ' +\n",
              "            '<a target=\"_blank\" href=https://colab.research.google.com/notebooks/data_table.ipynb>data table notebook</a>'\n",
              "            + ' to learn more about interactive tables.';\n",
              "          element.innerHTML = '';\n",
              "          dataTable['output_type'] = 'display_data';\n",
              "          await google.colab.output.renderOutput(dataTable, element);\n",
              "          const docLink = document.createElement('div');\n",
              "          docLink.innerHTML = docLinkHtml;\n",
              "          element.appendChild(docLink);\n",
              "        }\n",
              "      </script>\n",
              "    </div>\n",
              "  </div>\n",
              "  "
            ]
          },
          "metadata": {},
          "execution_count": 30
        }
      ]
    }
  ]
}