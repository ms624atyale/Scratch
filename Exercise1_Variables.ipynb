{
  "nbformat": 4,
  "nbformat_minor": 0,
  "metadata": {
    "colab": {
      "name": "Exercise1_Variables.ipynb",
      "provenance": [],
      "authorship_tag": "ABX9TyMbJl8D4n4UtB3aR6lLG7gm",
      "include_colab_link": true
    },
    "kernelspec": {
      "name": "python3",
      "display_name": "Python 3"
    },
    "language_info": {
      "name": "python"
    }
  },
  "cells": [
    {
      "cell_type": "markdown",
      "metadata": {
        "id": "view-in-github",
        "colab_type": "text"
      },
      "source": [
        "<a href=\"https://colab.research.google.com/github/ms624atyale/Scratch/blob/main/Exercise1_Variables.ipynb\" target=\"_parent\"><img src=\"https://colab.research.google.com/assets/colab-badge.svg\" alt=\"Open In Colab\"/></a>"
      ]
    },
    {
      "cell_type": "markdown",
      "source": [
        "## 📌 Variables\n",
        "i) Variables are the most basic unit in programming languages. Variable names can be arbitrary. Depending on variable types, you may need additonal symbols such as ' ', [ ], ( ), and { }. \n",
        "\n",
        "- a = 1\n",
        "- a = 'apple'\n",
        "- b = 'apple'\n",
        "- list1 = [1, 'apple']\n",
        "- dict1 = {x:'apple', y:'pear'}\n",
        "\n",
        "### 📎  Some useful tips\n",
        "\n",
        "- Add a code line at the end. \n",
        "\n",
        "      print ( )\n",
        "\n",
        "\n",
        "- You click on a forward arror ▶️  symbol to run your code cell. \n",
        "- When your code lines are working fine, a check ✅ symbol will pop up; otherwise, you will end up having some error messages.😱\n",
        "\n"
      ],
      "metadata": {
        "id": "ZDm8LX4i8Hs4"
      }
    },
    {
      "cell_type": "code",
      "source": [
        "#@markdown Variable type < Number >\n",
        "a= 1\n",
        "print(a)"
      ],
      "metadata": {
        "cellView": "form",
        "id": "TfFHy3ID8g-d"
      },
      "execution_count": null,
      "outputs": []
    },
    {
      "cell_type": "code",
      "source": [
        "#@markdown Variable type < String >\n",
        "a= 'apple'\n",
        "print(a)"
      ],
      "metadata": {
        "cellView": "form",
        "id": "PbSMXXWeAiuK"
      },
      "execution_count": null,
      "outputs": []
    },
    {
      "cell_type": "code",
      "source": [
        "#@markdown Variable names are **arbitrary**.\n",
        "b = 'apple'\n",
        "print(b)"
      ],
      "metadata": {
        "cellView": "form",
        "id": "kHv4ffd8ArpZ"
      },
      "execution_count": null,
      "outputs": []
    },
    {
      "cell_type": "code",
      "source": [
        "#@markdown Variable type < List >\n",
        "list1 = [1, 'apple']\n",
        "print (list1)"
      ],
      "metadata": {
        "cellView": "form",
        "id": "oGmpQc7xBKen"
      },
      "execution_count": null,
      "outputs": []
    },
    {
      "cell_type": "code",
      "source": [
        "#@markdown Variable type < Dictionary > # it needs a fix. \n",
        "dict1 = {x:'apple', y':'pear'}"
      ],
      "metadata": {
        "id": "6SIblG2wBbtD"
      },
      "execution_count": null,
      "outputs": []
    }
  ]
}