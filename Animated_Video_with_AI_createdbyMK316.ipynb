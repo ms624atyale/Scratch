{
  "nbformat": 4,
  "nbformat_minor": 0,
  "metadata": {
    "colab": {
      "provenance": [],
      "include_colab_link": true
    },
    "kernelspec": {
      "name": "python3",
      "display_name": "Python 3"
    },
    "language_info": {
      "name": "python"
    }
  },
  "cells": [
    {
      "cell_type": "markdown",
      "metadata": {
        "id": "view-in-github",
        "colab_type": "text"
      },
      "source": [
        "<a href=\"https://colab.research.google.com/github/ms624atyale/Scratch/blob/main/Animated_Video_with_AI_createdbyMK316.ipynb\" target=\"_parent\"><img src=\"https://colab.research.google.com/assets/colab-badge.svg\" alt=\"Open In Colab\"/></a>"
      ]
    },
    {
      "cell_type": "markdown",
      "source": [
        "# How to create animated videos using Text to Video AI tools\n",
        "\n",
        "[youtube tutorial](https://www.youtube.com/watch?v=YZHZrKgtNbA)"
      ],
      "metadata": {
        "id": "74WmiE9xvirD"
      }
    },
    {
      "cell_type": "markdown",
      "source": [
        "## We'll use 3 additional apps (AI based)\n",
        "\n",
        "[1] Steve AI: Creating Script(texts) to animated video\n",
        "\n",
        "[get link](https://steve.ai)  \n",
        "\n",
        "ID: mirankim316@gmail.com"
      ],
      "metadata": {
        "id": "ZRpg-3YfwsoM"
      }
    },
    {
      "cell_type": "code",
      "execution_count": null,
      "metadata": {
        "id": "Tb1IalCdvZvj"
      },
      "outputs": [],
      "source": [
        "# Script to Animated video"
      ]
    },
    {
      "cell_type": "markdown",
      "source": [
        "[2] [rytr.me](https://rytr.me): Creating scripts(texts) about your topic. "
      ],
      "metadata": {
        "id": "DHXLFztO77VX"
      }
    },
    {
      "cell_type": "code",
      "source": [
        "# You can generate sripts about your topic (title, paragraphs, etcs.)"
      ],
      "metadata": {
        "id": "YYrWJGeRx5Jj"
      },
      "execution_count": null,
      "outputs": []
    },
    {
      "cell_type": "markdown",
      "source": [
        "[3] [app.clipchamp](https://app.clipchamp.com/): Video editing (adding new voice and music)"
      ],
      "metadata": {
        "id": "ydArYFXD8u_O"
      }
    },
    {
      "cell_type": "code",
      "source": [
        "# app.chlipchamp to edit the video (insert music, change voice, etc.)\n",
        "# Create video (Menu on the Top Right corner)"
      ],
      "metadata": {
        "id": "5yf_FvD081EP"
      },
      "execution_count": null,
      "outputs": []
    },
    {
      "cell_type": "markdown",
      "source": [
        "[4] A sample uploaded on Youtube:\n",
        "\n",
        "* Topic: The six traits of good teachers\n",
        "\n",
        "[Sample video link](https://www.youtube.com/watch?v=VFWEJNaIJCo)\n",
        "\n",
        "Play it here: (code below)"
      ],
      "metadata": {
        "id": "p9mnsvUnN80F"
      }
    },
    {
      "cell_type": "code",
      "source": [
        "from IPython.display import YouTubeVideo, display\n",
        "video = YouTubeVideo(\"VFWEJNaIJCo\", width=500)\n",
        "display(video)"
      ],
      "metadata": {
        "colab": {
          "base_uri": "https://localhost:8080/",
          "height": 321
        },
        "id": "FzabtMQ9Pcwi",
        "outputId": "e8457622-75ab-4c3d-d5ec-e7e862bf8c67"
      },
      "execution_count": null,
      "outputs": [
        {
          "output_type": "display_data",
          "data": {
            "text/plain": [
              "<IPython.lib.display.YouTubeVideo at 0x7ff698118a60>"
            ],
            "text/html": [
              "\n",
              "        <iframe\n",
              "            width=\"500\"\n",
              "            height=\"300\"\n",
              "            src=\"https://www.youtube.com/embed/VFWEJNaIJCo\"\n",
              "            frameborder=\"0\"\n",
              "            allowfullscreen\n",
              "        ></iframe>\n",
              "        "
            ],
            "image/jpeg": "[encoded data removed]"
          },
          "metadata": {}
        }
      ]
    },
    {
      "cell_type": "markdown",
      "source": [
        "# (If you want) Download Youtube video"
      ],
      "metadata": {
        "id": "Oa7gDEP_QE-N"
      }
    },
    {
      "cell_type": "markdown",
      "source": [
        "Downloaded videos(on colab): Click the left panel.\n",
        "\n",
        "(files)  \n",
        "* test.mp4: the first 6 seconds\n",
        "* video.mp4: full video"
      ],
      "metadata": {
        "id": "l_z-LwUpTLX7"
      }
    },
    {
      "cell_type": "code",
      "source": [
        "%%capture\n",
        "!pip install youtube-dl\n",
        "!pip uninstall -y opencv-python-headless opencv-contrib-python\n",
        "!apt install python3-opencv \n",
        "!youtube-dl https://www.youtube.com/watch?v=VFWEJNaIJCo -f 22 -o video.mp4\n",
        "!ffmpeg -i video.mp4 -t 00:00:06 -c:v copy test.mp4"
      ],
      "metadata": {
        "colab": {
          "base_uri": "https://localhost:8080/"
        },
        "id": "_ZCxGWTCPzFV",
        "outputId": "05198845-2f8e-4b8c-c505-c2afeba6217b"
      },
      "execution_count": null,
      "outputs": [
        {
          "output_type": "stream",
          "name": "stdout",
          "text": [
            "Looking in indexes: https://pypi.org/simple, https://us-python.pkg.dev/colab-wheels/public/simple/\n",
            "Collecting youtube-dl\n",
            "  Downloading youtube_dl-2021.12.17-py2.py3-none-any.whl (1.9 MB)\n",
            "\u001b[K     |████████████████████████████████| 1.9 MB 6.6 MB/s \n",
            "\u001b[?25hInstalling collected packages: youtube-dl\n",
            "Successfully installed youtube-dl-2021.12.17\n",
            "Found existing installation: opencv-python-headless 4.6.0.66\n",
            "Uninstalling opencv-python-headless-4.6.0.66:\n",
            "  Successfully uninstalled opencv-python-headless-4.6.0.66\n",
            "Found existing installation: opencv-contrib-python 4.6.0.66\n",
            "Uninstalling opencv-contrib-python-4.6.0.66:\n",
            "  Successfully uninstalled opencv-contrib-python-4.6.0.66\n",
            "Reading package lists... Done\n",
            "Building dependency tree       \n",
            "Reading state information... Done\n",
            "The following package was automatically installed and is no longer required:\n",
            "  libnvidia-common-460\n",
            "Use 'apt autoremove' to remove it.\n",
            "The following additional packages will be installed:\n",
            "  python3-numpy\n",
            "Suggested packages:\n",
            "  python-numpy-doc python3-nose python3-numpy-dbg\n",
            "The following NEW packages will be installed:\n",
            "  python3-numpy python3-opencv\n",
            "0 upgraded, 2 newly installed, 0 to remove and 20 not upgraded.\n",
            "Need to get 2,477 kB of archives.\n",
            "After this operation, 13.9 MB of additional disk space will be used.\n",
            "Get:1 http://archive.ubuntu.com/ubuntu bionic/main amd64 python3-numpy amd64 1:1.13.3-2ubuntu1 [1,943 kB]\n",
            "Get:2 http://archive.ubuntu.com/ubuntu bionic-updates/universe amd64 python3-opencv amd64 3.2.0+dfsg-4ubuntu0.1 [534 kB]\n",
            "Fetched 2,477 kB in 1s (2,965 kB/s)\n",
            "Selecting previously unselected package python3-numpy.\n",
            "(Reading database ... 124016 files and directories currently installed.)\n",
            "Preparing to unpack .../python3-numpy_1%3a1.13.3-2ubuntu1_amd64.deb ...\n",
            "Unpacking python3-numpy (1:1.13.3-2ubuntu1) ...\n",
            "Selecting previously unselected package python3-opencv.\n",
            "Preparing to unpack .../python3-opencv_3.2.0+dfsg-4ubuntu0.1_amd64.deb ...\n",
            "Unpacking python3-opencv (3.2.0+dfsg-4ubuntu0.1) ...\n",
            "Setting up python3-numpy (1:1.13.3-2ubuntu1) ...\n",
            "/usr/lib/python3.8/subprocess.py:842: RuntimeWarning: line buffering (buffering=1) isn't supported in binary mode, the default buffer size will be used\n",
            "  self.stdin = io.open(p2cwrite, 'wb', bufsize)\n",
            "Setting up python3-opencv (3.2.0+dfsg-4ubuntu0.1) ...\n",
            "Processing triggers for man-db (2.8.3-2ubuntu0.1) ...\n",
            "[youtube] VFWEJNaIJCo: Downloading webpage\n",
            "[youtube] VFWEJNaIJCo: Downloading player 34f9b71c\n",
            "[download] Destination: video.mp4\n",
            "\u001b[K[download] 100% of 7.77MiB in 01:51\n",
            "ffmpeg version 3.4.11-0ubuntu0.1 Copyright (c) 2000-2022 the FFmpeg developers\n",
            "  built with gcc 7 (Ubuntu 7.5.0-3ubuntu1~18.04)\n",
            "  configuration: --prefix=/usr --extra-version=0ubuntu0.1 --toolchain=hardened --libdir=/usr/lib/x86_64-linux-gnu --incdir=/usr/include/x86_64-linux-gnu --enable-gpl --disable-stripping --enable-avresample --enable-avisynth --enable-gnutls --enable-ladspa --enable-libass --enable-libbluray --enable-libbs2b --enable-libcaca --enable-libcdio --enable-libflite --enable-libfontconfig --enable-libfreetype --enable-libfribidi --enable-libgme --enable-libgsm --enable-libmp3lame --enable-libmysofa --enable-libopenjpeg --enable-libopenmpt --enable-libopus --enable-libpulse --enable-librubberband --enable-librsvg --enable-libshine --enable-libsnappy --enable-libsoxr --enable-libspeex --enable-libssh --enable-libtheora --enable-libtwolame --enable-libvorbis --enable-libvpx --enable-libwavpack --enable-libwebp --enable-libx265 --enable-libxml2 --enable-libxvid --enable-libzmq --enable-libzvbi --enable-omx --enable-openal --enable-opengl --enable-sdl2 --enable-libdc1394 --enable-libdrm --enable-libiec61883 --enable-chromaprint --enable-frei0r --enable-libopencv --enable-libx264 --enable-shared\n",
            "  libavutil      55. 78.100 / 55. 78.100\n",
            "  libavcodec     57.107.100 / 57.107.100\n",
            "  libavformat    57. 83.100 / 57. 83.100\n",
            "  libavdevice    57. 10.100 / 57. 10.100\n",
            "  libavfilter     6.107.100 /  6.107.100\n",
            "  libavresample   3.  7.  0 /  3.  7.  0\n",
            "  libswscale      4.  8.100 /  4.  8.100\n",
            "  libswresample   2.  9.100 /  2.  9.100\n",
            "  libpostproc    54.  7.100 / 54.  7.100\n",
            "Input #0, mov,mp4,m4a,3gp,3g2,mj2, from 'video.mp4':\n",
            "  Metadata:\n",
            "    major_brand     : mp42\n",
            "    minor_version   : 0\n",
            "    compatible_brands: isommp42\n",
            "    creation_time   : 2022-12-19T16:25:12.000000Z\n",
            "  Duration: 00:02:45.74, start: 0.000000, bitrate: 393 kb/s\n",
            "    Stream #0:0(und): Video: h264 (High) (avc1 / 0x31637661), yuv420p(tv, bt709), 1280x720 [SAR 1:1 DAR 16:9], 261 kb/s, 30 fps, 30 tbr, 15360 tbn, 60 tbc (default)\n",
            "    Metadata:\n",
            "      creation_time   : 2022-12-19T16:25:12.000000Z\n",
            "      handler_name    : ISO Media file produced by Google Inc. Created on: 12/19/2022.\n",
            "    Stream #0:1(und): Audio: aac (LC) (mp4a / 0x6134706D), 44100 Hz, stereo, fltp, 128 kb/s (default)\n",
            "    Metadata:\n",
            "      creation_time   : 2022-12-19T16:25:12.000000Z\n",
            "      handler_name    : ISO Media file produced by Google Inc. Created on: 12/19/2022.\n",
            "Stream mapping:\n",
            "  Stream #0:0 -> #0:0 (copy)\n",
            "  Stream #0:1 -> #0:1 (aac (native) -> aac (native))\n",
            "Press [q] to stop, [?] for help\n",
            "Output #0, mp4, to 'test.mp4':\n",
            "  Metadata:\n",
            "    major_brand     : mp42\n",
            "    minor_version   : 0\n",
            "    compatible_brands: isommp42\n",
            "    encoder         : Lavf57.83.100\n",
            "    Stream #0:0(und): Video: h264 (High) (avc1 / 0x31637661), yuv420p(tv, bt709), 1280x720 [SAR 1:1 DAR 16:9], q=2-31, 261 kb/s, 30 fps, 30 tbr, 15360 tbn, 15360 tbc (default)\n",
            "    Metadata:\n",
            "      creation_time   : 2022-12-19T16:25:12.000000Z\n",
            "      handler_name    : ISO Media file produced by Google Inc. Created on: 12/19/2022.\n",
            "    Stream #0:1(und): Audio: aac (LC) (mp4a / 0x6134706D), 44100 Hz, stereo, fltp, 128 kb/s (default)\n",
            "    Metadata:\n",
            "      creation_time   : 2022-12-19T16:25:12.000000Z\n",
            "      handler_name    : ISO Media file produced by Google Inc. Created on: 12/19/2022.\n",
            "      encoder         : Lavc57.107.100 aac\n",
            "frame=  181 fps=0.0 q=-1.0 Lsize=     332kB time=00:00:06.01 bitrate= 452.6kbits/s speed=  34x    \n",
            "video:238kB audio:88kB subtitle:0kB other streams:0kB global headers:0kB muxing overhead: 2.116613%\n",
            "\u001b[1;36m[aac @ 0x562678ae5700] \u001b[0mQavg: 6598.580\n"
          ]
        }
      ]
    }
  ]
}