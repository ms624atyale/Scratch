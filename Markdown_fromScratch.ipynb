{
  "nbformat": 4,
  "nbformat_minor": 0,
  "metadata": {
    "colab": {
      "name": "Markdown_fromScratch.ipynb",
      "provenance": [],
      "toc_visible": true,
      "authorship_tag": "ABX9TyMjeC22N2MTeeQLBr3WhRWF",
      "include_colab_link": true
    },
    "kernelspec": {
      "name": "python3",
      "display_name": "Python 3"
    },
    "language_info": {
      "name": "python"
    }
  },
  "cells": [
    {
      "cell_type": "markdown",
      "metadata": {
        "id": "view-in-github",
        "colab_type": "text"
      },
      "source": [
        "<a href=\"https://colab.research.google.com/github/ms624atyale/Scratch/blob/main/Markdown_fromScratch.ipynb\" target=\"_parent\"><img src=\"https://colab.research.google.com/assets/colab-badge.svg\" alt=\"Open In Colab\"/></a>"
      ]
    },
    {
      "cell_type": "code",
      "execution_count": 3,
      "metadata": {
        "id": "wrv9_5R8WloU",
        "colab": {
          "base_uri": "https://localhost:8080/"
        },
        "outputId": "c84bf37d-a5d0-4f9b-eeed-d1ebfd0829a3"
      },
      "outputs": [
        {
          "output_type": "stream",
          "name": "stdout",
          "text": [
            "Codes lines of a cell on the Colab are hidden denoted by \"@#markdown\" in the 1st line.\n"
          ]
        }
      ],
      "source": [
        "#@markdown\n",
        "print('Codes lines of a cell on the Colab are hidden denoted by \"@#markdown\" in the 1st line.')"
      ]
    },
    {
      "cell_type": "code",
      "source": [
        "#@markdown\n",
        "print(\"When a set of code lines in a cell are hidden, click a 'Show code' button. if you want to see the code lines.\")\n",
        "print(\"If you hide a set of codes back again, double-click on the right panel.\")"
      ],
      "metadata": {
        "colab": {
          "base_uri": "https://localhost:8080/"
        },
        "id": "9G6C8DZSYQ_G",
        "outputId": "2064e738-153f-413a-af81-cd4ebb5ff34e"
      },
      "execution_count": 6,
      "outputs": [
        {
          "output_type": "stream",
          "name": "stdout",
          "text": [
            "When a set of code lines in a cell are hidden, click a 'Show code' button. if you want to see the code lines.\n",
            "If you hide a set of codes back again, double-click on the right panel.\n"
          ]
        }
      ]
    }
  ]
}