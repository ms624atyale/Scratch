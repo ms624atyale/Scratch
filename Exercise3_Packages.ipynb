{
  "nbformat": 4,
  "nbformat_minor": 0,
  "metadata": {
    "colab": {
      "name": "Exercise3_Packages.ipynb",
      "provenance": [],
      "authorship_tag": "ABX9TyO2+wkQOAumIUJB14qDquEJ",
      "include_colab_link": true
    },
    "kernelspec": {
      "name": "python3",
      "display_name": "Python 3"
    },
    "language_info": {
      "name": "python"
    }
  },
  "cells": [
    {
      "cell_type": "markdown",
      "metadata": {
        "id": "view-in-github",
        "colab_type": "text"
      },
      "source": [
        "<a href=\"https://colab.research.google.com/github/ms624atyale/Scratch/blob/main/Exercise3_Packages.ipynb\" target=\"_parent\"><img src=\"https://colab.research.google.com/assets/colab-badge.svg\" alt=\"Open In Colab\"/></a>"
      ]
    },
    {
      "cell_type": "markdown",
      "source": [
        "## 👀  [How to install Packages](https://en.wikipedia.org/wiki/Pip_(package_manager))\n",
        "\n",
        "Package Installer for Python (pip) is the de facto and recommended package-management system written in Python and is used to install and manage software packages. (_borrowed from wikipedia_)\n",
        "\n",
        "### 📎 Some useful tips\n",
        "\n",
        "- Add a code line\n",
        "\n",
        "\n",
        "    !pip install <font color = 'purple'>**_package names_**\n",
        "\n",
        "- You should run all relevent code cells in order after your runtime is over.  "
      ],
      "metadata": {
        "id": "6qjjH9JAmbPQ"
      }
    },
    {
      "cell_type": "code",
      "source": [
        "#@markdown Corpus analysis\n",
        "\n",
        "!pip install corpus-toolkit"
      ],
      "metadata": {
        "id": "_2PGjO5Nx7aE",
        "cellView": "form"
      },
      "execution_count": null,
      "outputs": []
    },
    {
      "cell_type": "code",
      "source": [
        "#@markdown Lexical Diversity (e.g., lexical analysis)\n",
        "\n",
        "!pip install lexical-diversity"
      ],
      "metadata": {
        "id": "rcrcjDAGoHzD",
        "cellView": "form"
      },
      "execution_count": null,
      "outputs": []
    },
    {
      "cell_type": "code",
      "source": [
        "#@markdown Numerical Python (e.g., arrays)\n",
        "\n",
        "!pip install Numpy"
      ],
      "metadata": {
        "id": "HCZDsy60uPSd",
        "cellView": "form"
      },
      "execution_count": null,
      "outputs": []
    },
    {
      "cell_type": "code",
      "source": [
        "#@markdown pandas (e.g., tables and graphs)\n",
        "\n",
        "!pip install Pandas"
      ],
      "metadata": {
        "id": "MhWeoNOSuYc-",
        "cellView": "form"
      },
      "execution_count": null,
      "outputs": []
    },
    {
      "cell_type": "code",
      "source": [
        "#@markdown NLTK (e.g., a took kit for natual language processing)\n",
        "\n",
        "!pip install nltk"
      ],
      "metadata": {
        "id": "mKI64Kbdu6OH",
        "cellView": "form"
      },
      "execution_count": null,
      "outputs": []
    },
    {
      "cell_type": "code",
      "source": [
        "#@markdown Text-to-Speech \n",
        "\n",
        "!pip install gTTS"
      ],
      "metadata": {
        "id": "xIxeRD0ivOQ1",
        "cellView": "form"
      },
      "execution_count": null,
      "outputs": []
    },
    {
      "cell_type": "code",
      "source": [
        "#@markdown English Pronunciation dictionary for rhyming words\n",
        "\n",
        "!pip install pronouncing"
      ],
      "metadata": {
        "id": "hsDqALQsx4Yj",
        "cellView": "form"
      },
      "execution_count": null,
      "outputs": []
    }
  ]
}