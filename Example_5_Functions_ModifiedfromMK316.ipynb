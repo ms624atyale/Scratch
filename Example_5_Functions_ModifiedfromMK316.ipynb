{
  "nbformat": 4,
  "nbformat_minor": 0,
  "metadata": {
    "colab": {
      "name": "Example 5_Functions_ModifiedfromMK316.ipynb",
      "provenance": [],
      "toc_visible": true,
      "authorship_tag": "ABX9TyN6CL4+ew6P3QNuvMdwogAa",
      "include_colab_link": true
    },
    "kernelspec": {
      "name": "python3",
      "display_name": "Python 3"
    },
    "language_info": {
      "name": "python"
    }
  },
  "cells": [
    {
      "cell_type": "markdown",
      "metadata": {
        "id": "view-in-github",
        "colab_type": "text"
      },
      "source": [
        "<a href=\"https://colab.research.google.com/github/ms624atyale/Scratch/blob/main/Example_5_Functions_ModifiedfromMK316.ipynb\" target=\"_parent\"><img src=\"https://colab.research.google.com/assets/colab-badge.svg\" alt=\"Open In Colab\"/></a>"
      ]
    },
    {
      "cell_type": "markdown",
      "source": [
        "# 🐹 🐾 Functions\n",
        "\n",
        "A relevent group of functions comprises a module. \n",
        "\n",
        "1. Functions are already by others and included as default in Colab (Jupiter Notebook). \n",
        "2. Functions are already defined by others and included as part of packages you've downloaded. \n",
        "  - Your code line start with as follows.\n",
        "  - The second code line is indicated by using an indent.\n",
        "\n",
        "    \n",
        "    def CODELINE 1:\n",
        "        CODELINE 2\n",
        "        CODELINE 3\n",
        "        ...\n",
        "\n",
        "\n",
        "3. You can define your own functions using varialbes and grammar (e.g., if statement, for statement, etc.). \n",
        "\n",
        "\n",
        "You can include functions when you write code lines as long as they are ready for use.  "
      ],
      "metadata": {
        "id": "MtYKaTH84vkB"
      }
    },
    {
      "cell_type": "markdown",
      "source": [
        "###📑 📌 This is a predefined funcion, input( ), on Colab.\n",
        "\n",
        "input( )\n",
        "\n"
      ],
      "metadata": {
        "id": "yk1-H_9m1fIl"
      }
    },
    {
      "cell_type": "code",
      "source": [
        "#@markdown 📌 a function by itself\n",
        "input() #numbers or string?"
      ],
      "metadata": {
        "cellView": "form",
        "id": "gXquinTi9WK1"
      },
      "execution_count": null,
      "outputs": []
    },
    {
      "cell_type": "markdown",
      "source": [
        "###📑 📌 The predefined input() function can be asigned as a variable."
      ],
      "metadata": {
        "id": "wb1JaQp7-CAN"
      }
    },
    {
      "cell_type": "code",
      "source": [
        "#@markdown 📌 variable name = function()\n",
        "numbers = input()"
      ],
      "metadata": {
        "id": "QSiHinUV9zzC"
      },
      "execution_count": null,
      "outputs": []
    },
    {
      "cell_type": "markdown",
      "source": [
        "###📑 📌 This is a sample function for practice.\n",
        "\n",
        "    def add(x,y):\n",
        "      result=int(x)+int(y)\n",
        "      return result"
      ],
      "metadata": {
        "id": "uNq2ytIC7HXk"
      }
    },
    {
      "cell_type": "code",
      "source": [
        "#@markdown 📌**Practice to define a fuction of your own** \n",
        "#@markdown This is a code cell created in advance for your practice. **Paste** the code lines in the previous text cell.\n",
        "\n"
      ],
      "metadata": {
        "id": "66mEXRYwzlHL"
      },
      "execution_count": 3,
      "outputs": []
    },
    {
      "cell_type": "markdown",
      "source": [
        "#### 📑 📌 The predefined input() function can be asigned as a variable.The code lines in the following use the <font color = 'red'>_input( ), split( ), and add( )_</font> functions. \n",
        "\n",
        "     numbers = input()\n",
        "     num = numbers.split(',')\n",
        "     print(\"The result is: \", add(num[0],num[1]))"
      ],
      "metadata": {
        "id": "uh4kJW578Edd"
      }
    },
    {
      "cell_type": "code",
      "source": [
        "#@markdown 📌 **Code lines including functions** This is a code cell created in advance for your practice. Expose the code lines first.\n",
        "\n",
        "#@markdown 📌  Run the code lines provided in the code cell and a flashing Input Box will appear. Type in a set of two numbers with a comma in between and hit the Enter key.\n",
        "\n",
        "numbers = input() #This will generate a pop-up box.\n",
        "num = numbers.split(',') #Arbitrary numbers are splited using this function.\n",
        "print(\"The result is: \", add(num[0],num[1])) #Use indexing to refer to individual items. "
      ],
      "metadata": {
        "id": "Yt_miQhT3bGk",
        "cellView": "form"
      },
      "execution_count": null,
      "outputs": []
    }
  ]
}