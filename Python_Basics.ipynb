{
  "nbformat": 4,
  "nbformat_minor": 0,
  "metadata": {
    "colab": {
      "name": "Python Basics.ipynb",
      "provenance": [],
      "collapsed_sections": [],
      "authorship_tag": "ABX9TyPDGl+iyLXhpkTZY1U39/F+",
      "include_colab_link": true
    },
    "kernelspec": {
      "name": "python3",
      "display_name": "Python 3"
    },
    "language_info": {
      "name": "python"
    }
  },
  "cells": [
    {
      "cell_type": "markdown",
      "metadata": {
        "id": "view-in-github",
        "colab_type": "text"
      },
      "source": [
        "<a href=\"https://colab.research.google.com/github/ms624atyale/Scratch/blob/main/Python_Basics.ipynb\" target=\"_parent\"><img src=\"https://colab.research.google.com/assets/colab-badge.svg\" alt=\"Open In Colab\"/></a>"
      ]
    },
    {
      "cell_type": "markdown",
      "source": [
        "#🐹 🐾 Python Basics\n",
        "\n",
        "|  | Keywords of Python Language | Analogy |\n",
        "|:  |:  |: :|\n",
        "| 1 | variables | word (i.e., sign + meaning) |\n",
        "| 2 | syntax | syntax (e.g., how to combine words into a structure way) |\n",
        "| 3 | functions | books |\n",
        "| 4 | modules | library sections sorted by subject |\n",
        "| 5 | packages | libraries |\n",
        "\n",
        "\n",
        "1️⃣ To **assign** a **variable**\n",
        "\n",
        "i) Variables are the most basic unit in programming languages. Variable names can be arbitrary.\n",
        "\n",
        "- a = 1\n",
        "- a = 'apple'\n",
        "- b = 'apple'\n",
        "- b = [1, 'apple']\n",
        "- b = {x:'apple', y:'pear'}\n",
        "\n",
        "ii) Four important variable types\n",
        "- Number\n",
        "  - Integer (e.g., -25, -10, -1, 0, 1, 100, 230, etc.)\n",
        "  - float (e.g., -25.0, -10.2, -1.5, 1.0, 1.527, etc.)\n",
        "\n",
        "- String (e.g., 't', 'apple', 'extra', '12345', 'spelling', etc.)\n",
        "\n",
        "- List (e.g., [-25, 0, 230, 3.14, 'an', 'earth', 'Mars', 'Jupiter], etc.)\n",
        "\n",
        "- Dictionary (e.g., {\n",
        "\n",
        "\n",
        "\n",
        "2️⃣  To write Python conditions using sytactic rules\n",
        ">1. if statements\n",
        ">2. for statements\n",
        "\n",
        "!pip install <font color='red'>_package name_\n",
        "\n",
        "Grammar (Syntax)\n",
        "\n",
        "\n"
      ],
      "metadata": {
        "id": "2kKBlsSQgvaE"
      }
    }
  ]
}