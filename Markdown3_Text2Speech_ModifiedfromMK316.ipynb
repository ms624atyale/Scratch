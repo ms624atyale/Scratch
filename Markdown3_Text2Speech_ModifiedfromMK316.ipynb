{
  "nbformat": 4,
  "nbformat_minor": 0,
  "metadata": {
    "colab": {
      "name": "Markdown3_Text2Speech_ModifiedfromMK316.ipynb",
      "provenance": [],
      "toc_visible": true,
      "authorship_tag": "ABX9TyPcaMJYZ1ZKC+LWzWmxMl2s",
      "include_colab_link": true
    },
    "kernelspec": {
      "name": "python3",
      "display_name": "Python 3"
    },
    "language_info": {
      "name": "python"
    }
  },
  "cells": [
    {
      "cell_type": "markdown",
      "metadata": {
        "id": "view-in-github",
        "colab_type": "text"
      },
      "source": [
        "<a href=\"https://colab.research.google.com/github/ms624atyale/Scratch/blob/main/Markdown3_Text2Speech_ModifiedfromMK316.ipynb\" target=\"_parent\"><img src=\"https://colab.research.google.com/assets/colab-badge.svg\" alt=\"Open In Colab\"/></a>"
      ]
    },
    {
      "cell_type": "markdown",
      "source": [
        "## 🐹 🐾  <font color = 'red'>**Text-to-Speech**\n",
        "\n",
        "### 📌 Precondition: \n",
        "Define your own functions and include them in your code lines. \n",
        "\n",
        "🔍 [Refer to class material in the previous section](http://INSERT...)\n",
        "\n",
        "#### **Step 0**: Refer to the link above and copy & paste the code lines and run them. \n",
        "\n",
        "     🎧 🔉 TTS (text-to-speech) with multiple accents available. \n",
        "     \n",
        "     How to use: \n",
        "     1. Install the gTTS package (**code line**: !pip install gTTS) \n",
        "     2. Import subordinate units (modues and functions)\n",
        "     3. Select an accent of your choice among English (en), French (fr), Korean (ko), and Spanish (es).\n",
        "     4. Generate and save a wave file.\n",
        "     5. Play the wave file. \n",
        " "
      ],
      "metadata": {
        "id": "C6h1uqBC9UEQ"
      }
    },
    {
      "cell_type": "code",
      "source": [
        "#@markdown **Step 1**: Install the **gTTS** packages and import its relevant modules and functions\n",
        "!pip install gTTS\n",
        "from gtts import gTTS\n",
        "from IPython.display import Audio"
      ],
      "metadata": {
        "cellView": "form",
        "id": "0phxy06O9zrT"
      },
      "execution_count": null,
      "outputs": []
    },
    {
      "cell_type": "code",
      "source": [
        "#@markdown **Step 2**: Define a function that enables a user to i) select an accent, ii) generate a wave file, and iii) spit out a corresponding play window.\n",
        "def tts(text):\n",
        "  text_to_speech = text\n",
        "  language=\"en\" #@param[\"en\",\"fr\",\"ko\",\"es\"]\n",
        " \n",
        "\n",
        "  gtts_object = gTTS(text = text_to_speech,\n",
        "                     lang = language,\n",
        "                     slow = False)\n",
        "  gtts_object.save(\"myaudio.wav\")\n",
        "  return Audio(\"myaudio.wav\")\n",
        "  "
      ],
      "metadata": {
        "cellView": "form",
        "id": "tuco71N4_cdv"
      },
      "execution_count": null,
      "outputs": []
    },
    {
      "cell_type": "code",
      "source": [
        "#@markdown **Step 3**: Type in (or copy & past) any texts of yoour interest in the input box. \n",
        "\n",
        "#@markdown <font size='2.8'>[Type-in example] : <font color='red'> _Top Gun Maverick is starring with Tom Cruise._\n",
        "text_to_speech = input()\n",
        "txt = str(text_to_speech)\n",
        "print(\"Help: Three dots in the audio window provide various playback speed. The default is normal speech.\")\n",
        "tts(txt)"
      ],
      "metadata": {
        "cellView": "form",
        "id": "E_V4XqfPNf3r"
      },
      "execution_count": null,
      "outputs": []
    }
  ]
}