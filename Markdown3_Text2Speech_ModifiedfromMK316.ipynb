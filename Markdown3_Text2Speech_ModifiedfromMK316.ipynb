{
  "nbformat": 4,
  "nbformat_minor": 0,
  "metadata": {
    "colab": {
      "name": "Markdown3_Text2Speech_ModifiedfromMK316.ipynb",
      "provenance": [],
      "toc_visible": true,
      "authorship_tag": "ABX9TyOkbId0x01dyoCiqy+Buf4G",
      "include_colab_link": true
    },
    "kernelspec": {
      "name": "python3",
      "display_name": "Python 3"
    },
    "language_info": {
      "name": "python"
    }
  },
  "cells": [
    {
      "cell_type": "markdown",
      "metadata": {
        "id": "view-in-github",
        "colab_type": "text"
      },
      "source": [
        "<a href=\"https://colab.research.google.com/github/ms624atyale/Scratch/blob/main/Markdown3_Text2Speech_ModifiedfromMK316.ipynb\" target=\"_parent\"><img src=\"https://colab.research.google.com/assets/colab-badge.svg\" alt=\"Open In Colab\"/></a>"
      ]
    },
    {
      "cell_type": "markdown",
      "source": [
        "## 1️⃣ Basic: How to use the markdown function.\n",
        "Hidden (Default) vs. Exposed\n",
        "- How to use:\n",
        "  - Double-click on the panel on the right to **hide** code lines.\n",
        "  - Either click on the {Show code} to **expose** code lines or Double-click on the panel on the right.\n"
      ],
      "metadata": {
        "id": "STFz8Wpba5b2"
      }
    },
    {
      "cell_type": "code",
      "execution_count": null,
      "metadata": {
        "id": "wrv9_5R8WloU"
      },
      "outputs": [],
      "source": [
        "#@markdown 💙 Sample exercie for **Hide** vs. **Exposure**\n",
        "print('1. Codes lines of a cell on the Colab are hidden denoted by \"@#markdown\" in the 1st line.')\n",
        "print(\"2. When a set of code lines in a cell are hidden, click on the 'Show code' button if you want to expose the code lines.\")\n",
        "print(\"3. If you want to hide a set of codes back again, double-click on the right panel.\")"
      ]
    },
    {
      "cell_type": "markdown",
      "source": [
        "## 2️⃣  Markdown for code blocks on **text cells**\n",
        "\n",
        "### Create your own functions and include them in your code lines.\n",
        "\n",
        "#### **Markdown_Step 1**: Copy and paste the code lines in the following on your code cell and run them.\n",
        "  If you want to make the **preview** of the definition of a fuction available in the text cell, create **code blocks** in the form of a shaded island by i) inserting a blank line, and ii) pressing the Spacebar key five times. You may also indicate part of a defined function by means of additionl use of the Tab key after the interval.     \n",
        "   \n",
        "     def add(x,y):\n",
        "      result = int(x) + int(y)\n",
        "      return result"
      ],
      "metadata": {
        "id": "MtYKaTH84vkB"
      }
    },
    {
      "cell_type": "code",
      "source": [
        "#@markdown **Practice Markdown_Set 1** \n",
        "#@markdown This is a code cell created in advance for your practice. **Paste** the code lines in the previous text cell.\n",
        "\n"
      ],
      "metadata": {
        "id": "66mEXRYwzlHL"
      },
      "execution_count": null,
      "outputs": []
    },
    {
      "cell_type": "markdown",
      "source": [
        "#### **Markdown_Step 2**: Run the following code lines which includes the defined function above.\n",
        "\n",
        "#### The code lines in the following needs a set of two numbers as input to the defined **add** function.\n",
        "\n",
        "     numbers = input()\n",
        "     num = numbers.split(',')\n",
        "     print(\"The result is: \", add(num[0],num[1]))"
      ],
      "metadata": {
        "id": "yk1-H_9m1fIl"
      }
    },
    {
      "cell_type": "code",
      "source": [
        "#@markdown **Practice Markdown_Set 2** This is a code cell created in advance for your practice. Expose the code lines first.\n",
        "\n",
        "#@markdown 📌  Run the code lines provided in the code cell and a flashing Input Box will appear. Type in a set of two numbers with a comma in between there and hit the Enter key.\n",
        "\n",
        "numbers = input()\n",
        "num = numbers.split(',')\n",
        "print(\"The result is: \", add(num[0],num[1]))"
      ],
      "metadata": {
        "cellView": "form",
        "id": "Yt_miQhT3bGk"
      },
      "execution_count": null,
      "outputs": []
    },
    {
      "cell_type": "markdown",
      "source": [
        "## 🔶 Markdown for **code blocks** or a **code line** on <font color='red'> **code cells**\n",
        "\n",
        "### 📌 Precondition: \n",
        "Define your own functions and include them in your code lines. \n",
        "\n",
        "🔍 [Refer to class material in the previous section](http://INSERT...)\n",
        "\n",
        "#### **Step 0**: Refer to the link above and copy & paste the code lines and run them. \n",
        "\n",
        "     🎧 🔉 TTS (text-to-speech) with multiple accents available. \n",
        "     \n",
        "     How to use: \n",
        "     1. Install the gTTS package (**code line**: !pip install gTTS) \n",
        "     2. Import subordinate units (modues and functions)\n",
        "     3. Select an accent of your choice among English (en), French (fr), Korean (ko), and Spanish (es).\n",
        "     4. Generate and save a wave file.\n",
        "     5. Play the wave file. \n",
        " "
      ],
      "metadata": {
        "id": "C6h1uqBC9UEQ"
      }
    },
    {
      "cell_type": "code",
      "source": [
        "#@markdown **Step 1**: Install the **gTTS** packages and import its relevant modules and functions\n",
        "!pip install gTTS\n",
        "from gtts import gTTS\n",
        "from IPython.display import Audio"
      ],
      "metadata": {
        "cellView": "form",
        "id": "0phxy06O9zrT"
      },
      "execution_count": null,
      "outputs": []
    },
    {
      "cell_type": "code",
      "source": [
        "#@markdown **Step 2**: Define a function that enables a user to i) select an accent, ii) generate a wave file, and iii) spit out a corresponding play window.\n",
        "def tts(text):\n",
        "  text_to_speech = text\n",
        "  language=\"en\" #@param[\"en\",\"fr\",\"ko\",\"es\"]\n",
        " \n",
        "\n",
        "  gtts_object = gTTS(text = text_to_speech,\n",
        "                     lang = language,\n",
        "                     slow = False)\n",
        "  gtts_object.save(\"myaudio.wav\")\n",
        "  return Audio(\"myaudio.wav\")\n",
        "  "
      ],
      "metadata": {
        "cellView": "form",
        "id": "tuco71N4_cdv"
      },
      "execution_count": 3,
      "outputs": []
    },
    {
      "cell_type": "code",
      "source": [
        "#@markdown **Step 3**: Type in (or copy & past) any texts of yoour interest in the input box. \n",
        "\n",
        "#@markdown <font size='2.8'>[Type-in example] : <font color='red'> _Top Gun Maverick is starring with Tom Cruise._\n",
        "text_to_speech = input()\n",
        "txt = str(text_to_speech)\n",
        "print(\"Help: Three dots in the audio window provide various playback speed. The default is normal speech.\")\n",
        "tts(txt)"
      ],
      "metadata": {
        "cellView": "form",
        "id": "E_V4XqfPNf3r"
      },
      "execution_count": null,
      "outputs": []
    }
  ]
}