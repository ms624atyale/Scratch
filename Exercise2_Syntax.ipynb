{
  "nbformat": 4,
  "nbformat_minor": 0,
  "metadata": {
    "colab": {
      "name": "Exercise2_Syntax.ipynb",
      "provenance": [],
      "authorship_tag": "ABX9TyMsJF0ZX6leHKkN9KpsK3el",
      "include_colab_link": true
    },
    "kernelspec": {
      "name": "python3",
      "display_name": "Python 3"
    },
    "language_info": {
      "name": "python"
    }
  },
  "cells": [
    {
      "cell_type": "markdown",
      "metadata": {
        "id": "view-in-github",
        "colab_type": "text"
      },
      "source": [
        "<a href=\"https://colab.research.google.com/github/ms624atyale/Scratch/blob/main/Exercise2_Syntax.ipynb\" target=\"_parent\"><img src=\"https://colab.research.google.com/assets/colab-badge.svg\" alt=\"Open In Colab\"/></a>"
      ]
    },
    {
      "cell_type": "markdown",
      "source": [
        "## 📌 [If statement](https://python.fandom.com/wiki/If_Statements#:~:text=If%20statements%20are%20built%20in,the%20if%20statement%20is%20invoked.)\n",
        "- If statements are built in structure of If, a true/false statement and a \":\" (**_python.wiki_**).\n",
        "\n",
        "### 📎  Some useful tips\n",
        "- Boolean algebra, Boolean operator (e.g., ==, !=, <, >, <=, >=, not, and, or)\n",
        "\n",
        "\n",
        "    if Boolean Expressions:\n",
        "      code line if the boolean value is True. \n",
        "\n",
        "\n",
        "\n",
        "\n"
      ],
      "metadata": {
        "id": "kZkfWmCgQ20b"
      }
    },
    {
      "cell_type": "code",
      "execution_count": null,
      "metadata": {
        "id": "7qjy47-TQyCq"
      },
      "outputs": [],
      "source": [
        "#@ If statement with integers\n",
        "\n",
        "number = input (\"정수 입력>\")\n",
        "number = int(number) \n",
        "x = number\n",
        "y = 10\n",
        "\n",
        "if number > 4:\n",
        "  print (x * y)"
      ]
    },
    {
      "cell_type": "markdown",
      "source": [
        "## 📌 [For statement](https://python.fandom.com/wiki/Loops)\n",
        "- For loops are used to iterate an iterable. They are most often used to execute code n about of times (borrowed from **_python.wiki_**).\n",
        "\n",
        "### 📎  Some useful tips\n",
        "- code lines\n",
        "\n",
        "\n",
        "    for 반복자 in 반복할 수 있는 것: \n",
        "      more code lines"
      ],
      "metadata": {
        "id": "dvTu_K9VUKVn"
      }
    },
    {
      "cell_type": "code",
      "source": [
        "#@ For statement with greetings in English\n",
        "\n",
        "for character in \"how are you?\":\n",
        "  print(\"-\", character)"
      ],
      "metadata": {
        "id": "uAXvNv1lb3B8"
      },
      "execution_count": null,
      "outputs": []
    },
    {
      "cell_type": "code",
      "source": [
        "#@ For statement with greetings in Korean\n",
        "\n",
        "for spelling in \"안녕하세요!\":\n",
        "  print(spelling)"
      ],
      "metadata": {
        "id": "HtieMUMHdeJv"
      },
      "execution_count": null,
      "outputs": []
    },
    {
      "cell_type": "code",
      "source": [
        "#@ For statement with a simple list\n",
        "\n",
        "list1 = [123, 'number', 456, 'sequence']\n",
        "\n",
        "for element in list1: \n",
        "  print(element)"
      ],
      "metadata": {
        "id": "MT-Tms9xdrCb"
      },
      "execution_count": null,
      "outputs": []
    },
    {
      "cell_type": "code",
      "source": [
        "#@ For statement with a list with an embedded list\n",
        "\n",
        "list2 = ['안녕하세요', [123, 'number', 456, 'sequence']]\n",
        "\n",
        "for element in list2: \n",
        "  print(element)"
      ],
      "metadata": {
        "id": "n27uqXz4eyvr"
      },
      "execution_count": null,
      "outputs": []
    }
  ]
}