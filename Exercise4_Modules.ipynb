{
  "nbformat": 4,
  "nbformat_minor": 0,
  "metadata": {
    "colab": {
      "name": "Exercise4_Modules.ipynb",
      "provenance": [],
      "authorship_tag": "ABX9TyPJdbNjDmUkcKogugFFZjC3",
      "include_colab_link": true
    },
    "kernelspec": {
      "name": "python3",
      "display_name": "Python 3"
    },
    "language_info": {
      "name": "python"
    }
  },
  "cells": [
    {
      "cell_type": "markdown",
      "metadata": {
        "id": "view-in-github",
        "colab_type": "text"
      },
      "source": [
        "<a href=\"https://colab.research.google.com/github/ms624atyale/Scratch/blob/main/Exercise4_Modules.ipynb\" target=\"_parent\"><img src=\"https://colab.research.google.com/assets/colab-badge.svg\" alt=\"Open In Colab\"/></a>"
      ]
    },
    {
      "cell_type": "code",
      "execution_count": null,
      "metadata": {
        "id": "o04JbFSDmY66"
      },
      "outputs": [],
      "source": [
        ""
      ]
    },
    {
      "cell_type": "markdown",
      "source": [
        "## 👀  How to Python imports \n",
        "\n",
        "Use a simple syntax (from ~ import ~ as) when you want to use abbreviated importing module names. \n",
        "\n",
        "\n",
        "\n",
        "### 📎 Some useful tips\n",
        "\n",
        "- Add a code line\n",
        "\n",
        "\n",
        "     from package name import module name as abbr. importing name \n",
        "\n",
        "- You should run all relevent code cells in order after your runtime is over.  "
      ],
      "metadata": {
        "id": "6qjjH9JAmbPQ"
      }
    },
    {
      "cell_type": "code",
      "source": [
        "pip install lexical-diversity\n"
      ],
      "metadata": {
        "id": "rcrcjDAGoHzD",
        "colab": {
          "base_uri": "https://localhost:8080/"
        },
        "outputId": "1f83c51e-d2af-4436-8bfb-2f40c6e8c233"
      },
      "execution_count": 9,
      "outputs": [
        {
          "output_type": "stream",
          "name": "stdout",
          "text": [
            "Looking in indexes: https://pypi.org/simple, https://us-python.pkg.dev/colab-wheels/public/simple/\n",
            "Collecting lexical-diversity\n",
            "  Downloading lexical_diversity-0.1.1-py3-none-any.whl (117 kB)\n",
            "\u001b[K     |████████████████████████████████| 117 kB 7.4 MB/s \n",
            "\u001b[?25hInstalling collected packages: lexical-diversity\n",
            "Successfully installed lexical-diversity-0.1.1\n"
          ]
        }
      ]
    },
    {
      "cell_type": "code",
      "source": [
        "#@markdown 🔳 Install and import packages\n",
        "%%capture\n",
        "import nltk\n",
        "from nltk.tokenize import word_tokenize, sent_tokenize\n",
        "nltk.download(\"punkt\")\n",
        "\n",
        "!pip install corpus-toolkit\n",
        "\n",
        "#@markdown 🔳 Create a foloder named \"txtdata\" for further processing\n",
        "import os\n",
        "os.mkdir(\"txtdata\")\n"
      ],
      "metadata": {
        "id": "Z3k3cUpgwCNj"
      },
      "execution_count": null,
      "outputs": []
    },
    {
      "cell_type": "code",
      "source": [
        "#@markdown 🔳 Tokenize, getting frequency list with tagging information\n",
        "\n",
        "from nltk.tokenize import RegexpTokenizer\n",
        "retokenize =RegexpTokenizer(\"[\\w]+\")\n",
        "words = retokenize.tokenize(text)\n",
        "words\n",
        "print('Before stopwords: %d'%len(words))"
      ],
      "metadata": {
        "id": "BGNRF0BDwywn"
      },
      "execution_count": null,
      "outputs": []
    },
    {
      "cell_type": "code",
      "source": [
        "#@markdown 🔳 POS tagging\n",
        "\n",
        "from corpus_toolkit import corpus_tools as ct\n"
      ],
      "metadata": {
        "id": "gV7dWNWjw_WE"
      },
      "execution_count": null,
      "outputs": []
    },
    {
      "cell_type": "code",
      "source": [
        "#@markdown English Pronunciation dictionary for rhyming words\n",
        "\n",
        "**Step 1:** Install {pronouncing}\n",
        "%%capture\n",
        "!pip install pronouncing\n",
        "\n",
        "import pronouncing"
      ],
      "metadata": {
        "id": "sFJ2ofFVxbre"
      },
      "execution_count": 10,
      "outputs": []
    }
  ]
}